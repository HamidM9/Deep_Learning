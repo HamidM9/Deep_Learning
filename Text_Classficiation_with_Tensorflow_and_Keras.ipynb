{
  "nbformat": 4,
  "nbformat_minor": 0,
  "metadata": {
    "colab": {
      "provenance": [],
      "collapsed_sections": [],
      "toc_visible": true,
      "include_colab_link": true
    },
    "kernelspec": {
      "display_name": "Python 3",
      "name": "python3"
    }
  },
  "cells": [
    {
      "cell_type": "markdown",
      "metadata": {
        "id": "view-in-github",
        "colab_type": "text"
      },
      "source": [
        "<a href=\"https://colab.research.google.com/github/HamidM9/Deep_Learning/blob/main/Text_Classficiation_with_Tensorflow_and_Keras.ipynb\" target=\"_parent\"><img src=\"https://colab.research.google.com/assets/colab-badge.svg\" alt=\"Open In Colab\"/></a>"
      ]
    },
    {
      "cell_type": "markdown",
      "metadata": {
        "id": "QUc9frYnVBI_"
      },
      "source": [
        "In this ipynb, we will explore how to develop a simple Deep Neural Network for a classification problem. We will explore two common libraries: TensorFlow and Keras.\n",
        "Then we will explore how to face a well known problem that is common to encounter during the training phase: the Overfitting.\n",
        "Finally, we will study how to perform a fair model selection.\n",
        "Hint: Before starting take a look at how Tensorflow and Keras are designed.  https://keras.io/"
      ]
    },
    {
      "cell_type": "markdown",
      "metadata": {
        "id": "e-Nc7mFSVEiU"
      },
      "source": [
        "## Text Classficiation with Tensorflow and Keras\n",
        "\n",
        "In this section we will develop a 3 layers Neural Network to perfrom classification.\n",
        "\n",
        "Let's start importing the libraries we will need and setting a couple of environmental variables.\n"
      ]
    },
    {
      "cell_type": "code",
      "metadata": {
        "id": "bWn9FzneVqJo"
      },
      "source": [
        "import matplotlib as mpl\n",
        "import matplotlib.pyplot as plt\n",
        "import numpy as np\n",
        "import os\n",
        "import pandas as pd\n",
        "import sklearn\n",
        "import sys\n",
        "import tensorflow as tf\n",
        "from tensorflow import keras  # tf.keras\n",
        "import tensorflow_datasets as tfds\n",
        "import time\n",
        "\n",
        "import logging\n",
        "logging.disable(logging.WARNING)\n",
        "os.environ[\"TF_CPP_MIN_LOG_LEVEL\"] = \"3\" \n",
        "\n",
        "tf.random.set_seed(42)\n",
        "# os.environ['TF_DETERMINISTIC_OPS']='1'"
      ],
      "execution_count": null,
      "outputs": []
    },
    {
      "cell_type": "markdown",
      "metadata": {
        "id": "LT2HMYDEXcx0"
      },
      "source": [
        "### Load Data: AG News Subset\n",
        "\n",
        "Here, we use the AG News Subset that is available in Tensorflow Dataset. The AG's news topic classification dataset is constructed by choosing the 4 largest topic classes from a larger news corups. The total number of training samples is 120,000 and testing 7,600. Each class contains 30,000 training samples and 1,900 testing samples. Each sample contains both the title and an excerpt of the article, but in this exercise we will use only the excerpt as input.\n",
        "\n",
        "We will split the training set into two 90%-10% splits in order to have a validation set."
      ]
    },
    {
      "cell_type": "code",
      "source": [
        "### NOTE ### \n",
        "# running this cell might yield download-related errors.\n",
        "# just repeating the execution a couple of times should solve the error.\n",
        "\n",
        "train_ds, valid_ds, test_ds = tfds.load('ag_news_subset',\n",
        "                                        as_supervised=True, # return a set of (text, label) tuples \n",
        "                                        split=['train[:90%]', 'train[-10%:]', 'test'],\n",
        "                                        batch_size=-1)  \n",
        "                                        # ^ using batch_size=-1 returns Tensors instead of Dataset objects"
      ],
      "metadata": {
        "id": "d8xZASzs26zD"
      },
      "execution_count": null,
      "outputs": []
    },
    {
      "cell_type": "code",
      "source": [
        "# Tensors have two elements, data and labels; let's split them\n",
        "# so we can transform the data\n",
        "X_train, y_train = train_ds\n",
        "X_valid, y_valid = valid_ds\n",
        "X_test, y_test = test_ds"
      ],
      "metadata": {
        "id": "BYkXCTv3NrvC"
      },
      "execution_count": null,
      "outputs": []
    },
    {
      "cell_type": "markdown",
      "source": [
        "The AG News Subset dataset consists in news articles, each one composed by a sequence of words. In order to encode each article in a single tensor with a fixed number of elements, we will use multi-hot encoding. For testing purposes, we will only consider the first 10,000  most common words. Multi-hot-encoding our lists means turning them into vectors of 0s and 1s. Concretely, this would mean for instance turning the sequence [3, 5] into a 10,000-dimensional vector that would be all-zeros except for indices 3 and 5, which would be ones. The obtained input representation indicates which words are present (at least one time) in the sentence."
      ],
      "metadata": {
        "id": "8prUBtqq8JW7"
      }
    },
    {
      "cell_type": "code",
      "source": [
        "num_words = 1000\n",
        "vectorize_layer = tf.keras.layers.TextVectorization(\n",
        " max_tokens=num_words,\n",
        " standardize=\"lower_and_strip_punctuation\",\n",
        " split=\"whitespace\",\n",
        " output_mode='multi_hot',\n",
        " pad_to_max_tokens=True)\n",
        "\n",
        "vectorize_layer.adapt(X_train)"
      ],
      "metadata": {
        "id": "Brt087tDIDpe"
      },
      "execution_count": null,
      "outputs": []
    },
    {
      "cell_type": "code",
      "source": [
        "X_train = vectorize_layer(X_train)\n",
        "X_valid = vectorize_layer(X_valid)\n",
        "X_test  = vectorize_layer(X_test)"
      ],
      "metadata": {
        "id": "seuFLH2lNiDT"
      },
      "execution_count": null,
      "outputs": []
    },
    {
      "cell_type": "markdown",
      "metadata": {
        "id": "jGUg8TexZMNf"
      },
      "source": [
        "### Define the model:\n",
        "\n",
        "Let's build a Sequential model (`keras.models.Sequential`) and add four layers to it by calling its `add()` method:\n",
        "\n",
        "\n",
        "*   a input layer (`tf.keras.Input`) that is the first layer in your model. With this layer you should specify the `input_shape` argument, leaving out the batch size: `(num_words,)`;\n",
        "*  a Dense layer (`keras.layers.Dense`) with 16 neurons, and the \"relu\" activation function;\n",
        "* another Dense layer with 16 neurons, also with the \"relu\" activation function;\n",
        "* a final Dense layer with 4 output neurons, and with the \"softmax\" activation (since we considering a classification task with four classes)."
      ]
    },
    {
      "cell_type": "code",
      "metadata": {
        "id": "OaoEISyaZL56"
      },
      "source": [
        "model = keras.models.Sequential()\n",
        "model.add(tf.keras.Input(shape=(num_words,)))\n",
        "model.add(keras.layers.Dense(16, activation=\"relu\"))\n",
        "model.add(keras.layers.Dense(16, activation=\"relu\"))\n",
        "model.add(keras.layers.Dense(4, activation=\"softmax\"))"
      ],
      "execution_count": null,
      "outputs": []
    },
    {
      "cell_type": "markdown",
      "metadata": {
        "id": "fYfxUOQVZljh"
      },
      "source": [
        "Call the model's `summary()` method to check if the model has been built correctly. Also, try using `keras.utils.plot_model()` to save an image of your model's architecture."
      ]
    },
    {
      "cell_type": "code",
      "metadata": {
        "id": "IpGkQl5dZoWq",
        "colab": {
          "base_uri": "https://localhost:8080/"
        },
        "outputId": "bd54c4f0-4a91-447e-d9fc-50b871a83914"
      },
      "source": [
        "model.summary()"
      ],
      "execution_count": null,
      "outputs": [
        {
          "output_type": "stream",
          "name": "stdout",
          "text": [
            "Model: \"sequential\"\n",
            "_________________________________________________________________\n",
            " Layer (type)                Output Shape              Param #   \n",
            "=================================================================\n",
            " dense (Dense)               (None, 16)                16016     \n",
            "                                                                 \n",
            " dense_1 (Dense)             (None, 16)                272       \n",
            "                                                                 \n",
            " dense_2 (Dense)             (None, 4)                 68        \n",
            "                                                                 \n",
            "=================================================================\n",
            "Total params: 16,356\n",
            "Trainable params: 16,356\n",
            "Non-trainable params: 0\n",
            "_________________________________________________________________\n"
          ]
        }
      ]
    },
    {
      "cell_type": "code",
      "metadata": {
        "id": "b1NbkrXRZwOA",
        "colab": {
          "base_uri": "https://localhost:8080/",
          "height": 422
        },
        "outputId": "7fd3a2e5-b676-458e-ba6f-3bfd180658a1"
      },
      "source": [
        "keras.utils.plot_model(model, \"my_model.png\", show_shapes=True)"
      ],
      "execution_count": null,
      "outputs": [
        {
          "output_type": "execute_result",
          "data": {
            "text/plain": [
              "<IPython.core.display.Image object>"
            ],
            "image/png": "[encoded data removed]"
          },
          "metadata": {},
          "execution_count": 9
        }
      ]
    },
    {
      "cell_type": "markdown",
      "metadata": {
        "id": "Mc3xzuA-33WH"
      },
      "source": [
        "As you can see, the first dimension of each layer is not defined (`None`), indeed this dimension in each layer is variable and depends on the batch size."
      ]
    },
    {
      "cell_type": "markdown",
      "metadata": {
        "id": "6FAjFixuHSA_"
      },
      "source": [
        "Instaed of using `add()` method it is also possibile to define the model using the following syntax"
      ]
    },
    {
      "cell_type": "code",
      "metadata": {
        "id": "yOhr57M9GPHy",
        "colab": {
          "base_uri": "https://localhost:8080/",
          "height": 682
        },
        "outputId": "7565779c-9f17-4fda-a38c-1b939a1f29ac"
      },
      "source": [
        "model = keras.models.Sequential([\n",
        "    tf.keras.Input(shape=(num_words,)),\n",
        "    keras.layers.Dense(16, activation=\"relu\"),\n",
        "    keras.layers.Dense(16, activation=\"relu\"),\n",
        "    keras.layers.Dense(4, activation=\"softmax\")\n",
        "])\n",
        "model.summary()\n",
        "keras.utils.plot_model(model, \"my_model.png\", show_shapes=True)"
      ],
      "execution_count": null,
      "outputs": [
        {
          "output_type": "stream",
          "name": "stdout",
          "text": [
            "Model: \"sequential_1\"\n",
            "_________________________________________________________________\n",
            " Layer (type)                Output Shape              Param #   \n",
            "=================================================================\n",
            " dense_3 (Dense)             (None, 16)                16016     \n",
            "                                                                 \n",
            " dense_4 (Dense)             (None, 16)                272       \n",
            "                                                                 \n",
            " dense_5 (Dense)             (None, 4)                 68        \n",
            "                                                                 \n",
            "=================================================================\n",
            "Total params: 16,356\n",
            "Trainable params: 16,356\n",
            "Non-trainable params: 0\n",
            "_________________________________________________________________\n"
          ]
        },
        {
          "output_type": "execute_result",
          "data": {
            "text/plain": [
              "<IPython.core.display.Image object>"
            ],
            "image/png": "[encoded data removed]"
          },
          "metadata": {},
          "execution_count": 10
        }
      ]
    },
    {
      "cell_type": "markdown",
      "metadata": {
        "id": "2ySdJmzxaSuz"
      },
      "source": [
        "### Optimize the model:\n",
        "\n",
        "After the model has been created, you must call its `compile()` method to specify the loss function and the optimizer to use.\n",
        "\n",
        "Since the model performs a classification task, and we have labels encoded as integers, we use the sparse categorical cross-entropy loss. As optimizer we use Adam.\n",
        "\n",
        "Moreover, you can optionally specify a list of additional metrics that should be measured during training. In this case we specify `metrics=[\"accuracy\"]`."
      ]
    },
    {
      "cell_type": "code",
      "metadata": {
        "id": "x3bbsY3uaeh5"
      },
      "source": [
        "model.compile(loss=\"sparse_categorical_crossentropy\",\n",
        "              optimizer=keras.optimizers.Adam(learning_rate=1e-4),\n",
        "              metrics=[\"accuracy\"])"
      ],
      "execution_count": null,
      "outputs": []
    },
    {
      "cell_type": "markdown",
      "metadata": {
        "id": "NB9SV0MpaeTg"
      },
      "source": [
        "Now our model is ready to be trained. Call its `fit()` method, passing to it the input features (`X_train`) and the target classes (`y_train`). Set the number of epochs to 20. \n",
        "In order to validate our model we will also pass the validation data by setting `validation_data=(X_valid, y_valid)`. Keras will compute the loss and the additional metrics (the accuracy in this case) on the validation set at the end of each epoch. If the loss on the training set is much lower than the one on the validation set, your model is probably overfitting the training set. Note: the `fit()` method will return a `History` object containing training stats."
      ]
    },
    {
      "cell_type": "code",
      "metadata": {
        "id": "5whx-LU3aoKn",
        "colab": {
          "base_uri": "https://localhost:8080/"
        },
        "outputId": "cbe8098b-0e36-4614-c0e4-5a84fcdb666f"
      },
      "source": [
        "history = model.fit(X_train, y_train, epochs=20,\n",
        "                    validation_data=(X_valid, y_valid))"
      ],
      "execution_count": null,
      "outputs": [
        {
          "output_type": "stream",
          "name": "stdout",
          "text": [
            "Epoch 1/20\n",
            "3375/3375 [==============================] - 8s 2ms/step - loss: 0.8503 - accuracy: 0.6761 - val_loss: 0.5107 - val_accuracy: 0.8314\n",
            "Epoch 2/20\n",
            "3375/3375 [==============================] - 7s 2ms/step - loss: 0.4583 - accuracy: 0.8449 - val_loss: 0.4452 - val_accuracy: 0.8475\n",
            "Epoch 3/20\n",
            "3375/3375 [==============================] - 7s 2ms/step - loss: 0.4222 - accuracy: 0.8546 - val_loss: 0.4318 - val_accuracy: 0.8507\n",
            "Epoch 4/20\n",
            "3375/3375 [==============================] - 7s 2ms/step - loss: 0.4089 - accuracy: 0.8573 - val_loss: 0.4241 - val_accuracy: 0.8509\n",
            "Epoch 5/20\n",
            "3375/3375 [==============================] - 7s 2ms/step - loss: 0.4012 - accuracy: 0.8590 - val_loss: 0.4210 - val_accuracy: 0.8525\n",
            "Epoch 6/20\n",
            "3375/3375 [==============================] - 7s 2ms/step - loss: 0.3959 - accuracy: 0.8601 - val_loss: 0.4175 - val_accuracy: 0.8531\n",
            "Epoch 7/20\n",
            "3375/3375 [==============================] - 7s 2ms/step - loss: 0.3917 - accuracy: 0.8615 - val_loss: 0.4149 - val_accuracy: 0.8535\n",
            "Epoch 8/20\n",
            "3375/3375 [==============================] - 7s 2ms/step - loss: 0.3882 - accuracy: 0.8617 - val_loss: 0.4132 - val_accuracy: 0.8550\n",
            "Epoch 9/20\n",
            "3375/3375 [==============================] - 7s 2ms/step - loss: 0.3851 - accuracy: 0.8627 - val_loss: 0.4109 - val_accuracy: 0.8540\n",
            "Epoch 10/20\n",
            "3375/3375 [==============================] - 7s 2ms/step - loss: 0.3825 - accuracy: 0.8629 - val_loss: 0.4096 - val_accuracy: 0.8534\n",
            "Epoch 11/20\n",
            "3375/3375 [==============================] - 7s 2ms/step - loss: 0.3799 - accuracy: 0.8637 - val_loss: 0.4081 - val_accuracy: 0.8539\n",
            "Epoch 12/20\n",
            "3375/3375 [==============================] - 7s 2ms/step - loss: 0.3775 - accuracy: 0.8638 - val_loss: 0.4064 - val_accuracy: 0.8543\n",
            "Epoch 13/20\n",
            "3375/3375 [==============================] - 7s 2ms/step - loss: 0.3753 - accuracy: 0.8645 - val_loss: 0.4051 - val_accuracy: 0.8538\n",
            "Epoch 14/20\n",
            "3375/3375 [==============================] - 7s 2ms/step - loss: 0.3731 - accuracy: 0.8649 - val_loss: 0.4053 - val_accuracy: 0.8543\n",
            "Epoch 15/20\n",
            "3375/3375 [==============================] - 7s 2ms/step - loss: 0.3709 - accuracy: 0.8660 - val_loss: 0.4035 - val_accuracy: 0.8553\n",
            "Epoch 16/20\n",
            "3375/3375 [==============================] - 7s 2ms/step - loss: 0.3689 - accuracy: 0.8661 - val_loss: 0.4027 - val_accuracy: 0.8553\n",
            "Epoch 17/20\n",
            "3375/3375 [==============================] - 7s 2ms/step - loss: 0.3669 - accuracy: 0.8668 - val_loss: 0.4011 - val_accuracy: 0.8565\n",
            "Epoch 18/20\n",
            "3375/3375 [==============================] - 6s 2ms/step - loss: 0.3649 - accuracy: 0.8672 - val_loss: 0.4003 - val_accuracy: 0.8554\n",
            "Epoch 19/20\n",
            "3375/3375 [==============================] - 7s 2ms/step - loss: 0.3630 - accuracy: 0.8679 - val_loss: 0.3992 - val_accuracy: 0.8559\n",
            "Epoch 20/20\n",
            "3375/3375 [==============================] - 7s 2ms/step - loss: 0.3612 - accuracy: 0.8684 - val_loss: 0.3993 - val_accuracy: 0.8564\n"
          ]
        }
      ]
    },
    {
      "cell_type": "markdown",
      "metadata": {
        "id": "EPxiw8iCADr-"
      },
      "source": [
        "Let's plot the loss and the accuracy trends on both training and validation sets. We define the `plot_learning_acc_and_loss` function because we will reuse it in the next steps."
      ]
    },
    {
      "cell_type": "code",
      "metadata": {
        "id": "AJg-F7mUa7st",
        "colab": {
          "base_uri": "https://localhost:8080/",
          "height": 320
        },
        "outputId": "f01171e7-e82d-4b6b-e349-66e21e6b213f"
      },
      "source": [
        "def plot_learning_acc_and_loss(history):\n",
        "    pd.DataFrame(history.history).plot(figsize=(8, 5))\n",
        "    plt.grid(True)\n",
        "    plt.show()\n",
        "plot_learning_acc_and_loss(history)"
      ],
      "execution_count": null,
      "outputs": [
        {
          "output_type": "display_data",
          "data": {
            "text/plain": [
              "<Figure size 576x360 with 1 Axes>"
            ],
            "image/png": "[encoded data removed]"
          },
          "metadata": {
            "needs_background": "light"
          }
        }
      ]
    },
    {
      "cell_type": "markdown",
      "metadata": {
        "id": "9O3-sLmxansJ"
      },
      "source": [
        "###  Evaluate the model:\n",
        "\n",
        "Now, our model has been optimized on the training set, and as you can see the performance on the validation set in quite similar (so it does not overfit the training data). Let's now evaluate the performance of our model using the test set."
      ]
    },
    {
      "cell_type": "code",
      "metadata": {
        "id": "q-ZvJEcObdyB",
        "colab": {
          "base_uri": "https://localhost:8080/"
        },
        "outputId": "e4f6b283-ac53-4fe9-8ef4-630459c75ac2"
      },
      "source": [
        "model.evaluate(X_test, y_test)"
      ],
      "execution_count": null,
      "outputs": [
        {
          "output_type": "stream",
          "name": "stdout",
          "text": [
            "238/238 [==============================] - 1s 2ms/step - loss: 0.4093 - accuracy: 0.8521\n"
          ]
        },
        {
          "output_type": "execute_result",
          "data": {
            "text/plain": [
              "[0.40926671028137207, 0.8521052598953247]"
            ]
          },
          "metadata": {},
          "execution_count": 14
        }
      ]
    },
    {
      "cell_type": "markdown",
      "metadata": {
        "id": "aeGlzKe864Gq"
      },
      "source": [
        "##  Overfiting\n",
        "\n",
        "A common problem that occurs when you train a deep neural network is overfittig. Overfitting occurs when you achieve a good fit of your model on the training data, while it does not generalize well on new, unseen data. In other words, the model learned patterns specific to the training data, which are irrelevant in other data.\n",
        "As we have seen  previously, our model does not overfit the training data. In this section, we try to modify the training parameters in order to have a model that overfits.\n",
        "Overfitting can have many causes and usually is a combination of some of them, for instance: too many parameters/ layers, too few training samples, wrong learning rate (usualy too high), etc..\n",
        "\n",
        " In the next cell we will define a new model (similar to the previuos one) that overfits the training data; then plot the trend of the loss in training and validation set."
      ]
    },
    {
      "cell_type": "code",
      "metadata": {
        "id": "T2B2DFEC8f88",
        "colab": {
          "base_uri": "https://localhost:8080/"
        },
        "outputId": "434123f1-01b7-496e-90ed-a00ddd570dac"
      },
      "source": [
        "model = keras.models.Sequential()\n",
        "model.add(tf.keras.Input(shape=(num_words,)))\n",
        "model.add(keras.layers.Dense(16, activation=\"relu\"))\n",
        "model.add(keras.layers.Dense(16, activation=\"relu\"))\n",
        "model.add(keras.layers.Dense(16, activation=\"relu\")) \n",
        "model.add(keras.layers.Dense(16, activation=\"relu\"))\n",
        "model.add(keras.layers.Dense(4, activation=\"softmax\"))\n",
        "\n",
        "model.compile(loss=\"sparse_categorical_crossentropy\",\n",
        "                \n",
        "              optimizer=keras.optimizers.Adam(learning_rate=1e-3), \n",
        "              metrics=[\"accuracy\"])\n",
        "\n",
        "history = model.fit(X_train, y_train, epochs= 20,\n",
        "                    validation_data=(X_valid, y_valid))\n",
        "\n",
        "            \n",
        "\n",
        "print(\"Model Evaluation\")\n",
        "model.evaluate(X_test, y_test)"
      ],
      "execution_count": null,
      "outputs": [
        {
          "output_type": "stream",
          "name": "stdout",
          "text": [
            "Epoch 1/20\n",
            "3375/3375 [==============================] - 8s 2ms/step - loss: 0.4795 - accuracy: 0.8233 - val_loss: 0.4308 - val_accuracy: 0.8472\n",
            "Epoch 2/20\n",
            "3375/3375 [==============================] - 7s 2ms/step - loss: 0.4037 - accuracy: 0.8544 - val_loss: 0.4081 - val_accuracy: 0.8549\n",
            "Epoch 3/20\n",
            "3375/3375 [==============================] - 7s 2ms/step - loss: 0.3820 - accuracy: 0.8609 - val_loss: 0.3983 - val_accuracy: 0.8572\n",
            "Epoch 4/20\n",
            "3375/3375 [==============================] - 7s 2ms/step - loss: 0.3659 - accuracy: 0.8661 - val_loss: 0.4014 - val_accuracy: 0.8575\n",
            "Epoch 5/20\n",
            "3375/3375 [==============================] - 7s 2ms/step - loss: 0.3521 - accuracy: 0.8714 - val_loss: 0.4005 - val_accuracy: 0.8594\n",
            "Epoch 6/20\n",
            "3375/3375 [==============================] - 7s 2ms/step - loss: 0.3412 - accuracy: 0.8755 - val_loss: 0.4032 - val_accuracy: 0.8561\n",
            "Epoch 7/20\n",
            "3375/3375 [==============================] - 7s 2ms/step - loss: 0.3305 - accuracy: 0.8791 - val_loss: 0.4178 - val_accuracy: 0.8510\n",
            "Epoch 8/20\n",
            "3375/3375 [==============================] - 7s 2ms/step - loss: 0.3233 - accuracy: 0.8820 - val_loss: 0.4063 - val_accuracy: 0.8577\n",
            "Epoch 9/20\n",
            "3375/3375 [==============================] - 7s 2ms/step - loss: 0.3162 - accuracy: 0.8849 - val_loss: 0.4135 - val_accuracy: 0.8536\n",
            "Epoch 10/20\n",
            "3375/3375 [==============================] - 7s 2ms/step - loss: 0.3103 - accuracy: 0.8870 - val_loss: 0.4223 - val_accuracy: 0.8553\n",
            "Epoch 11/20\n",
            "3375/3375 [==============================] - 7s 2ms/step - loss: 0.3049 - accuracy: 0.8889 - val_loss: 0.4145 - val_accuracy: 0.8560\n",
            "Epoch 12/20\n",
            "3375/3375 [==============================] - 7s 2ms/step - loss: 0.2998 - accuracy: 0.8909 - val_loss: 0.4198 - val_accuracy: 0.8574\n",
            "Epoch 13/20\n",
            "3375/3375 [==============================] - 7s 2ms/step - loss: 0.2950 - accuracy: 0.8928 - val_loss: 0.4276 - val_accuracy: 0.8551\n",
            "Epoch 14/20\n",
            "3375/3375 [==============================] - 7s 2ms/step - loss: 0.2901 - accuracy: 0.8952 - val_loss: 0.4256 - val_accuracy: 0.8513\n",
            "Epoch 15/20\n",
            "3375/3375 [==============================] - 7s 2ms/step - loss: 0.2864 - accuracy: 0.8965 - val_loss: 0.4278 - val_accuracy: 0.8556\n",
            "Epoch 16/20\n",
            "3375/3375 [==============================] - 8s 2ms/step - loss: 0.2823 - accuracy: 0.8978 - val_loss: 0.4305 - val_accuracy: 0.8539\n",
            "Epoch 17/20\n",
            "3375/3375 [==============================] - 7s 2ms/step - loss: 0.2791 - accuracy: 0.8990 - val_loss: 0.4352 - val_accuracy: 0.8526\n",
            "Epoch 18/20\n",
            "3375/3375 [==============================] - 7s 2ms/step - loss: 0.2753 - accuracy: 0.9003 - val_loss: 0.4451 - val_accuracy: 0.8514\n",
            "Epoch 19/20\n",
            "3375/3375 [==============================] - 7s 2ms/step - loss: 0.2734 - accuracy: 0.9015 - val_loss: 0.4432 - val_accuracy: 0.8514\n",
            "Epoch 20/20\n",
            "3375/3375 [==============================] - 7s 2ms/step - loss: 0.2697 - accuracy: 0.9033 - val_loss: 0.4494 - val_accuracy: 0.8484\n",
            "Model Evaluation\n",
            "238/238 [==============================] - 1s 2ms/step - loss: 0.4546 - accuracy: 0.8442\n"
          ]
        },
        {
          "output_type": "execute_result",
          "data": {
            "text/plain": [
              "[0.4546404182910919, 0.8442105054855347]"
            ]
          },
          "metadata": {},
          "execution_count": 15
        }
      ]
    },
    {
      "cell_type": "markdown",
      "metadata": {
        "id": "MS0fujEqh_m3"
      },
      "source": [
        "Define the `plot_learning_curves` function that plots only the losses (not the accuracy)."
      ]
    },
    {
      "cell_type": "code",
      "metadata": {
        "id": "q5EsklC0DZYH",
        "colab": {
          "base_uri": "https://localhost:8080/",
          "height": 336
        },
        "outputId": "c919db9e-d0d9-4cd0-cfb3-5b305a5507e1"
      },
      "source": [
        "def plot_learning_curves(history):\n",
        "    plt.figure(figsize=(8, 5))\n",
        "    plt.plot(history.epoch,history.history['loss'], label='train loss')\n",
        "    plt.plot(history.epoch,history.history['val_loss'], label='valid loss')\n",
        "    plt.legend()\n",
        "    plt.title('loss')\n",
        "    plt.grid(True)\n",
        "    plt.show()\n",
        "plot_learning_curves(history)"
      ],
      "execution_count": null,
      "outputs": [
        {
          "output_type": "display_data",
          "data": {
            "text/plain": [
              "<Figure size 576x360 with 1 Axes>"
            ],
            "image/png": "[encoded data removed]"
          },
          "metadata": {
            "needs_background": "light"
          }
        }
      ]
    },
    {
      "cell_type": "markdown",
      "metadata": {
        "id": "OW4Kf4fgDfOs"
      },
      "source": [
        "###  L1 norm\n",
        "\n",
        "One possible way to solve the overitting issue is by using regularization methods. The two most common regularization methods in Deep Learning are the L1-norm regularization and the L2-norm regularization. Both These techniques are based on limiting the capacity of models, by adding a parameter norm penalty to the objective function $\\mathcal{J}$:\n",
        "$$\n",
        "\\hat{\\mathcal{J}}(\\theta,\\mathbf{X},\\mathbf{y}) = \\mathcal{J}(\\theta,\\mathbf{X},\\mathbf{y}) + \\alpha \\Omega(\\theta)\n",
        "$$\n",
        "where $\\alpha$ is a hyperparameter that weighs the relative contribution of the norm penalty $\\Omega$.\n",
        "Lets start by considering the L1-norm regularization where the regularization term is defined as:\n",
        "$$\n",
        " \\Omega(\\theta)=||\\mathbf{W}||_1=\\sum_i |\\mathbf{w}|\n",
        "$$\n",
        "Let's find the values for the $\\alpha$ parameters that allow to remove the overfitting effect."
      ]
    },
    {
      "cell_type": "code",
      "metadata": {
        "id": "QzD8520dDgw3",
        "colab": {
          "base_uri": "https://localhost:8080/",
          "height": 1000
        },
        "outputId": "0b8ef394-e432-43c3-9a42-dc0b74a83257"
      },
      "source": [
        "#In Keras is neccesary to add the regularizer by using the attribute kernel_regularizer\n",
        "#to each layer whose weights will be considered in the Omega function.\n",
        "#is it also possibile to consider the bias by using the attribute bias_regularizer \n",
        "#tf.keras.regularizers.l1(alpha) perfroms the L1-norm regularization\n",
        "\n",
        "#We will copy the model that we previously defined that overfits the \n",
        "#training data, and add the L1-norm regularization. by useing a proper value for the\n",
        "#alpha hyper-parameter, that prevents the model from overfitting. The results  \n",
        "#reached by the model in terms of loss and accuracy (in all data sets) are\n",
        "#comparable with the ones obtained by the initial model defined earlier \n",
        "\n",
        "#In general, a layer that exploits L1-norm regularization is defined as follows:\n",
        "\n",
        "\n",
        "model = keras.models.Sequential()\n",
        "model.add(tf.keras.Input(shape=(num_words,)))\n",
        "model.add(keras.layers.Dense(16, activation=\"relu\", kernel_regularizer=tf.keras.regularizers.l1(0.001)))\n",
        "model.add(keras.layers.Dense(16, activation=\"relu\", kernel_regularizer=tf.keras.regularizers.l1(0.001)))\n",
        "model.add(keras.layers.Dense(16, activation=\"relu\", kernel_regularizer=tf.keras.regularizers.l1(0.001))) \n",
        "model.add(keras.layers.Dense(16, activation=\"relu\", kernel_regularizer=tf.keras.regularizers.l1(0.001)))\n",
        "model.add(keras.layers.Dense(4, activation=\"softmax\"))\n",
        "\n",
        "\n",
        "model.compile(loss=\"sparse_categorical_crossentropy\",\n",
        "              optimizer=keras.optimizers.Adam(learning_rate=1e-3),\n",
        "              metrics=[\"accuracy\"])\n",
        "\n",
        "history = model.fit(X_train, y_train, epochs=20,\n",
        "                    validation_data=(X_valid, y_valid))\n",
        "\n",
        "print(\"Model Evaluation\")\n",
        "model.evaluate(X_test, y_test)\n",
        "plot_learning_curves(history)"
      ],
      "execution_count": null,
      "outputs": [
        {
          "output_type": "stream",
          "name": "stdout",
          "text": [
            "Epoch 1/20\n",
            "3375/3375 [==============================] - 10s 3ms/step - loss: 0.8152 - accuracy: 0.8009 - val_loss: 0.7108 - val_accuracy: 0.8316\n",
            "Epoch 2/20\n",
            "3375/3375 [==============================] - 8s 2ms/step - loss: 0.6648 - accuracy: 0.8392 - val_loss: 0.6285 - val_accuracy: 0.8441\n",
            "Epoch 3/20\n",
            "3375/3375 [==============================] - 8s 2ms/step - loss: 0.6167 - accuracy: 0.8427 - val_loss: 0.6100 - val_accuracy: 0.8413\n",
            "Epoch 4/20\n",
            "3375/3375 [==============================] - 7s 2ms/step - loss: 0.6012 - accuracy: 0.8431 - val_loss: 0.6037 - val_accuracy: 0.8399\n",
            "Epoch 5/20\n",
            "3375/3375 [==============================] - 8s 2ms/step - loss: 0.5921 - accuracy: 0.8434 - val_loss: 0.5935 - val_accuracy: 0.8412\n",
            "Epoch 6/20\n",
            "3375/3375 [==============================] - 8s 2ms/step - loss: 0.5834 - accuracy: 0.8428 - val_loss: 0.5803 - val_accuracy: 0.8440\n",
            "Epoch 7/20\n",
            "3375/3375 [==============================] - 7s 2ms/step - loss: 0.5773 - accuracy: 0.8437 - val_loss: 0.5868 - val_accuracy: 0.8395\n",
            "Epoch 8/20\n",
            "3375/3375 [==============================] - 8s 2ms/step - loss: 0.5752 - accuracy: 0.8425 - val_loss: 0.5730 - val_accuracy: 0.8467\n",
            "Epoch 9/20\n",
            "3375/3375 [==============================] - 8s 2ms/step - loss: 0.5720 - accuracy: 0.8438 - val_loss: 0.5790 - val_accuracy: 0.8412\n",
            "Epoch 10/20\n",
            "3375/3375 [==============================] - 8s 2ms/step - loss: 0.5707 - accuracy: 0.8428 - val_loss: 0.5796 - val_accuracy: 0.8413\n",
            "Epoch 11/20\n",
            "3375/3375 [==============================] - 8s 2ms/step - loss: 0.5678 - accuracy: 0.8433 - val_loss: 0.5697 - val_accuracy: 0.8400\n",
            "Epoch 12/20\n",
            "3375/3375 [==============================] - 8s 2ms/step - loss: 0.5648 - accuracy: 0.8432 - val_loss: 0.5680 - val_accuracy: 0.8443\n",
            "Epoch 13/20\n",
            "3375/3375 [==============================] - 8s 2ms/step - loss: 0.5617 - accuracy: 0.8440 - val_loss: 0.5555 - val_accuracy: 0.8443\n",
            "Epoch 14/20\n",
            "3375/3375 [==============================] - 7s 2ms/step - loss: 0.5599 - accuracy: 0.8445 - val_loss: 0.5754 - val_accuracy: 0.8355\n",
            "Epoch 15/20\n",
            "3375/3375 [==============================] - 7s 2ms/step - loss: 0.5593 - accuracy: 0.8433 - val_loss: 0.5586 - val_accuracy: 0.8449\n",
            "Epoch 16/20\n",
            "3375/3375 [==============================] - 8s 2ms/step - loss: 0.5580 - accuracy: 0.8444 - val_loss: 0.5602 - val_accuracy: 0.8457\n",
            "Epoch 17/20\n",
            "3375/3375 [==============================] - 8s 2ms/step - loss: 0.5576 - accuracy: 0.8449 - val_loss: 0.5558 - val_accuracy: 0.8484\n",
            "Epoch 18/20\n",
            "3375/3375 [==============================] - 8s 2ms/step - loss: 0.5570 - accuracy: 0.8447 - val_loss: 0.5620 - val_accuracy: 0.8423\n",
            "Epoch 19/20\n",
            "3375/3375 [==============================] - 7s 2ms/step - loss: 0.5553 - accuracy: 0.8436 - val_loss: 0.5539 - val_accuracy: 0.8473\n",
            "Epoch 20/20\n",
            "3375/3375 [==============================] - 8s 2ms/step - loss: 0.5542 - accuracy: 0.8446 - val_loss: 0.5649 - val_accuracy: 0.8430\n",
            "Model Evaluation\n",
            "238/238 [==============================] - 1s 2ms/step - loss: 0.5770 - accuracy: 0.8358\n"
          ]
        },
        {
          "output_type": "display_data",
          "data": {
            "text/plain": [
              "<Figure size 576x360 with 1 Axes>"
            ],
            "image/png": "[encoded data removed]"
          },
          "metadata": {
            "needs_background": "light"
          }
        }
      ]
    },
    {
      "cell_type": "markdown",
      "metadata": {
        "id": "CgnCGYUvDqbC"
      },
      "source": [
        "###  L2-norm\n",
        "\n",
        "L2-norm regularization is also known as weight decay. This strategy drives the weights closer to the origin by adding the regularization term omega which is defined as:\n",
        "$$\n",
        " \\Omega(\\theta)=\\frac{1}{2}||\\mathbf{W}||_2^2\n",
        "$$\n",
        "\n",
        "Let's find the values for the $\\alpha$ parameters that allow removing remove the overfitting effect with L2-norm."
      ]
    },
    {
      "cell_type": "code",
      "metadata": {
        "id": "qqNhu350DtJo",
        "colab": {
          "base_uri": "https://localhost:8080/",
          "height": 1000
        },
        "outputId": "a91548fe-6d08-49b8-d3d9-7cc785743435"
      },
      "source": [
        "#we are inserting the model that we previously defined that overfit the \n",
        "#trainig data, and add the L2-norm regularization. By useing proper values for the\n",
        "#alpha hyper-parameters, that prevents the model from overfitting. The results  \n",
        "#reached by the model in terms of loss and accuracy (in all data sets) are\n",
        "#comparable with the ones obtained by the initial model earlier\n",
        "#In general, a layer that exploits L2-norm regularization is defined as follow:\n",
        "\n",
        "\n",
        "model = keras.models.Sequential()\n",
        "model.add(tf.keras.Input(shape=(num_words,)))\n",
        "model.add(keras.layers.Dense(16, activation=\"relu\", kernel_regularizer=tf.keras.regularizers.l2(0.001)))\n",
        "model.add(keras.layers.Dense(16, activation=\"relu\", kernel_regularizer=tf.keras.regularizers.l2(0.001)))\n",
        "model.add(keras.layers.Dense(16, activation=\"relu\", kernel_regularizer=tf.keras.regularizers.l2(0.001))) \n",
        "model.add(keras.layers.Dense(16, activation=\"relu\", kernel_regularizer=tf.keras.regularizers.l2(0.001)))\n",
        "model.add(keras.layers.Dense(4, activation=\"softmax\"))\n",
        "\n",
        "model.compile(loss=\"sparse_categorical_crossentropy\",\n",
        "              optimizer=keras.optimizers.Adam(learning_rate=1e-3),\n",
        "              metrics=[\"accuracy\"])\n",
        "\n",
        "history = model.fit(X_train, y_train, epochs=20,\n",
        "                    validation_data=(X_valid, y_valid))\n",
        "\n",
        "print(\"Model Evaluation\")\n",
        "model.evaluate(X_test, y_test)\n",
        "plot_learning_curves(history)"
      ],
      "execution_count": null,
      "outputs": [
        {
          "output_type": "stream",
          "name": "stdout",
          "text": [
            "Epoch 1/20\n",
            "3375/3375 [==============================] - 8s 2ms/step - loss: 0.5690 - accuracy: 0.8177 - val_loss: 0.5193 - val_accuracy: 0.8415\n",
            "Epoch 2/20\n",
            "3375/3375 [==============================] - 7s 2ms/step - loss: 0.4968 - accuracy: 0.8455 - val_loss: 0.4918 - val_accuracy: 0.8478\n",
            "Epoch 3/20\n",
            "3375/3375 [==============================] - 7s 2ms/step - loss: 0.4834 - accuracy: 0.8490 - val_loss: 0.4867 - val_accuracy: 0.8468\n",
            "Epoch 4/20\n",
            "3375/3375 [==============================] - 7s 2ms/step - loss: 0.4749 - accuracy: 0.8511 - val_loss: 0.4882 - val_accuracy: 0.8471\n",
            "Epoch 5/20\n",
            "3375/3375 [==============================] - 7s 2ms/step - loss: 0.4683 - accuracy: 0.8529 - val_loss: 0.4783 - val_accuracy: 0.8533\n",
            "Epoch 6/20\n",
            "3375/3375 [==============================] - 7s 2ms/step - loss: 0.4633 - accuracy: 0.8547 - val_loss: 0.4757 - val_accuracy: 0.8506\n",
            "Epoch 7/20\n",
            "3375/3375 [==============================] - 7s 2ms/step - loss: 0.4592 - accuracy: 0.8566 - val_loss: 0.4886 - val_accuracy: 0.8479\n",
            "Epoch 8/20\n",
            "3375/3375 [==============================] - 7s 2ms/step - loss: 0.4569 - accuracy: 0.8571 - val_loss: 0.4711 - val_accuracy: 0.8561\n",
            "Epoch 9/20\n",
            "3375/3375 [==============================] - 7s 2ms/step - loss: 0.4544 - accuracy: 0.8587 - val_loss: 0.4735 - val_accuracy: 0.8550\n",
            "Epoch 10/20\n",
            "3375/3375 [==============================] - 7s 2ms/step - loss: 0.4528 - accuracy: 0.8590 - val_loss: 0.4778 - val_accuracy: 0.8509\n",
            "Epoch 11/20\n",
            "3375/3375 [==============================] - 7s 2ms/step - loss: 0.4515 - accuracy: 0.8597 - val_loss: 0.4734 - val_accuracy: 0.8503\n",
            "Epoch 12/20\n",
            "3375/3375 [==============================] - 7s 2ms/step - loss: 0.4502 - accuracy: 0.8600 - val_loss: 0.4695 - val_accuracy: 0.8550\n",
            "Epoch 13/20\n",
            "3375/3375 [==============================] - 7s 2ms/step - loss: 0.4493 - accuracy: 0.8603 - val_loss: 0.4627 - val_accuracy: 0.8548\n",
            "Epoch 14/20\n",
            "3375/3375 [==============================] - 7s 2ms/step - loss: 0.4470 - accuracy: 0.8615 - val_loss: 0.4772 - val_accuracy: 0.8459\n",
            "Epoch 15/20\n",
            "3375/3375 [==============================] - 7s 2ms/step - loss: 0.4469 - accuracy: 0.8604 - val_loss: 0.4667 - val_accuracy: 0.8550\n",
            "Epoch 16/20\n",
            "3375/3375 [==============================] - 8s 2ms/step - loss: 0.4461 - accuracy: 0.8612 - val_loss: 0.4656 - val_accuracy: 0.8550\n",
            "Epoch 17/20\n",
            "3375/3375 [==============================] - 7s 2ms/step - loss: 0.4452 - accuracy: 0.8614 - val_loss: 0.4724 - val_accuracy: 0.8522\n",
            "Epoch 18/20\n",
            "3375/3375 [==============================] - 7s 2ms/step - loss: 0.4446 - accuracy: 0.8612 - val_loss: 0.4659 - val_accuracy: 0.8522\n",
            "Epoch 19/20\n",
            "3375/3375 [==============================] - 7s 2ms/step - loss: 0.4449 - accuracy: 0.8613 - val_loss: 0.4632 - val_accuracy: 0.8563\n",
            "Epoch 20/20\n",
            "3375/3375 [==============================] - 7s 2ms/step - loss: 0.4434 - accuracy: 0.8619 - val_loss: 0.4806 - val_accuracy: 0.8492\n",
            "Model Evaluation\n",
            "238/238 [==============================] - 1s 2ms/step - loss: 0.4942 - accuracy: 0.8438\n"
          ]
        },
        {
          "output_type": "display_data",
          "data": {
            "text/plain": [
              "<Figure size 576x360 with 1 Axes>"
            ],
            "image/png": "[encoded data removed]"
          },
          "metadata": {
            "needs_background": "light"
          }
        }
      ]
    },
    {
      "cell_type": "markdown",
      "metadata": {
        "id": "xvyKPb4DD25G"
      },
      "source": [
        "### Early stopping\n",
        "\n",
        "Early Stopping is a form of regularization used to avoid overfitting. It is designed to monitor the generalization error of one model and stop training when generalization error begins to degrade. In order to evaluate the generalization error, early stopping requires that a validation dataset is evaluated during training. Then, when the validation error does not improve for a specific number of epochs (`patience` hyper-parameter), it stops the training phase."
      ]
    },
    {
      "cell_type": "code",
      "metadata": {
        "id": "MqNOOZ11D7cq",
        "colab": {
          "base_uri": "https://localhost:8080/",
          "height": 614
        },
        "outputId": "14bd9472-37c4-4b57-b938-64dad575d2d0"
      },
      "source": [
        "#This is the model that we previously defined that overfit the \n",
        "#trainnig data\n",
        "model = keras.models.Sequential()\n",
        "\n",
        "model.add(tf.keras.Input(shape=(num_words,)))\n",
        "model.add(keras.layers.Dense(16, activation=\"relu\"))\n",
        "model.add(keras.layers.Dense(16, activation=\"relu\"))\n",
        "model.add(keras.layers.Dense(16, activation=\"relu\")) \n",
        "model.add(keras.layers.Dense(16, activation=\"relu\"))\n",
        "model.add(keras.layers.Dense(4, activation=\"softmax\"))\n",
        "\n",
        "model.compile(loss=\"sparse_categorical_crossentropy\",\n",
        "              optimizer=keras.optimizers.Adam(learning_rate=1e-3),\n",
        "\n",
        "              metrics=[\"accuracy\"])\n",
        "\n",
        "#Let's define a log dir in order to save the checkpoint file\n",
        "logdir = os.path.join(os.curdir, \"my_logs\", \"run_{}\".format(time.time()))\n",
        "\n",
        "#In Keras the early stopping is manage by using the callbacks argument.\n",
        "callbacks = [\n",
        "    keras.callbacks.TensorBoard(logdir),\n",
        "    keras.callbacks.EarlyStopping(patience=2),\n",
        "\n",
        "\n",
        "    #Saving the checkpoints file allows to load the \"best\" model when the Early \n",
        "    #stopping detect that the generalization error degrade (after 'patience' epochs)\n",
        "    keras.callbacks.ModelCheckpoint(\"my_mnist_model.h5\", save_best_only=True),\n",
        "]\n",
        "\n",
        "history = model.fit(X_train, y_train, epochs=20,\n",
        "                    validation_data=(X_valid, y_valid),\n",
        "                    callbacks=callbacks)\n",
        "\n",
        "print(\"Model Evaluation\")\n",
        "#The early stopping stopped training after few epochs without progress, so our\n",
        "#model may already have started to overfit the training set. Since the \n",
        "#ModelCheckpoint callback only saved the best models (on the validation set) the\n",
        "#last saved model is the best on the validation set.\n",
        "model = keras.models.load_model(\"my_mnist_model.h5\")\n",
        "model.evaluate(X_test, y_test)\n",
        "plot_learning_curves(history)"
      ],
      "execution_count": null,
      "outputs": [
        {
          "output_type": "stream",
          "name": "stdout",
          "text": [
            "Epoch 1/20\n",
            "3375/3375 [==============================] - 8s 2ms/step - loss: 0.4946 - accuracy: 0.8181 - val_loss: 0.4265 - val_accuracy: 0.8475\n",
            "Epoch 2/20\n",
            "3375/3375 [==============================] - 7s 2ms/step - loss: 0.3986 - accuracy: 0.8546 - val_loss: 0.4067 - val_accuracy: 0.8528\n",
            "Epoch 3/20\n",
            "3375/3375 [==============================] - 7s 2ms/step - loss: 0.3768 - accuracy: 0.8618 - val_loss: 0.3947 - val_accuracy: 0.8579\n",
            "Epoch 4/20\n",
            "3375/3375 [==============================] - 7s 2ms/step - loss: 0.3611 - accuracy: 0.8667 - val_loss: 0.4003 - val_accuracy: 0.8561\n",
            "Epoch 5/20\n",
            "3375/3375 [==============================] - 7s 2ms/step - loss: 0.3479 - accuracy: 0.8709 - val_loss: 0.3942 - val_accuracy: 0.8587\n",
            "Epoch 6/20\n",
            "3375/3375 [==============================] - 7s 2ms/step - loss: 0.3372 - accuracy: 0.8749 - val_loss: 0.3963 - val_accuracy: 0.8565\n",
            "Epoch 7/20\n",
            "3375/3375 [==============================] - 7s 2ms/step - loss: 0.3271 - accuracy: 0.8794 - val_loss: 0.4091 - val_accuracy: 0.8514\n",
            "Model Evaluation\n",
            "238/238 [==============================] - 0s 1ms/step - loss: 0.4016 - accuracy: 0.8528\n"
          ]
        },
        {
          "output_type": "display_data",
          "data": {
            "text/plain": [
              "<Figure size 576x360 with 1 Axes>"
            ],
            "image/png": "[encoded data removed]"
          },
          "metadata": {
            "needs_background": "light"
          }
        }
      ]
    },
    {
      "cell_type": "markdown",
      "metadata": {
        "id": "DCV8pwVzl9GK"
      },
      "source": [
        "\n",
        "##  Model Selection\n",
        "\n",
        "Hyperparameters are the parameters of the learning method itself which we have to specify a priori, i.e., before model fitting. In contrast, model parameters are parameters which arise as a result of the fit (the network weights). The aim of model selection is selecting the best hyperparameters for our deep network. Finding the right hyperparameters for a model can be crucial for the model performance on given data. For istance lets consider our model trained by using different values for the learning rate: "
      ]
    },
    {
      "cell_type": "code",
      "metadata": {
        "id": "Fw8Hs-AEmLKh"
      },
      "source": [
        "learning_rates = [1e-4, 1e-2, 1e-1]"
      ],
      "execution_count": null,
      "outputs": []
    },
    {
      "cell_type": "code",
      "metadata": {
        "id": "mym4GOgUmWqD",
        "colab": {
          "base_uri": "https://localhost:8080/"
        },
        "outputId": "8b74854a-026a-41ed-cc99-69b7f9c92880"
      },
      "source": [
        "histories = []\n",
        "for learning_rate in learning_rates:\n",
        "    model = keras.models.Sequential([\n",
        "                                    tf.keras.Input(shape=(num_words,)),\n",
        "                                    keras.layers.Dense(16, activation=\"relu\"),\n",
        "                                    keras.layers.Dense(16, activation=\"relu\"),\n",
        "                                    keras.layers.Dense(4, activation=\"softmax\")\n",
        "                                     ])\n",
        "    model.compile(loss=\"sparse_categorical_crossentropy\",\n",
        "              optimizer=keras.optimizers.Adam(learning_rate=learning_rate),\n",
        "              metrics=[\"accuracy\"])\n",
        "              \n",
        "    callbacks = [keras.callbacks.EarlyStopping(patience=2)]\n",
        "\n",
        "    history = model.fit(X_train, y_train,\n",
        "                        validation_data=(X_valid, y_valid), epochs=10,\n",
        "                        callbacks=callbacks)\n",
        "    histories.append(history)\n",
        "    print(\"evaluation on test set\")\n",
        "    model.evaluate(X_test, y_test)"
      ],
      "execution_count": null,
      "outputs": [
        {
          "output_type": "stream",
          "name": "stdout",
          "text": [
            "Epoch 1/10\n",
            "3375/3375 [==============================] - 7s 2ms/step - loss: 0.8514 - accuracy: 0.7120 - val_loss: 0.5158 - val_accuracy: 0.8300\n",
            "Epoch 2/10\n",
            "3375/3375 [==============================] - 7s 2ms/step - loss: 0.4605 - accuracy: 0.8436 - val_loss: 0.4481 - val_accuracy: 0.8477\n",
            "Epoch 3/10\n",
            "3375/3375 [==============================] - 7s 2ms/step - loss: 0.4220 - accuracy: 0.8529 - val_loss: 0.4321 - val_accuracy: 0.8510\n",
            "Epoch 4/10\n",
            "3375/3375 [==============================] - 7s 2ms/step - loss: 0.4075 - accuracy: 0.8568 - val_loss: 0.4230 - val_accuracy: 0.8518\n",
            "Epoch 5/10\n",
            "3375/3375 [==============================] - 7s 2ms/step - loss: 0.3996 - accuracy: 0.8589 - val_loss: 0.4198 - val_accuracy: 0.8519\n",
            "Epoch 6/10\n",
            "3375/3375 [==============================] - 7s 2ms/step - loss: 0.3944 - accuracy: 0.8596 - val_loss: 0.4160 - val_accuracy: 0.8526\n",
            "Epoch 7/10\n",
            "3375/3375 [==============================] - 7s 2ms/step - loss: 0.3902 - accuracy: 0.8611 - val_loss: 0.4133 - val_accuracy: 0.8529\n",
            "Epoch 8/10\n",
            "3375/3375 [==============================] - 7s 2ms/step - loss: 0.3867 - accuracy: 0.8617 - val_loss: 0.4120 - val_accuracy: 0.8535\n",
            "Epoch 9/10\n",
            "3375/3375 [==============================] - 7s 2ms/step - loss: 0.3836 - accuracy: 0.8627 - val_loss: 0.4092 - val_accuracy: 0.8537\n",
            "Epoch 10/10\n",
            "3375/3375 [==============================] - 7s 2ms/step - loss: 0.3808 - accuracy: 0.8628 - val_loss: 0.4084 - val_accuracy: 0.8534\n",
            "evaluation on test set\n",
            "238/238 [==============================] - 1s 2ms/step - loss: 0.4180 - accuracy: 0.8471\n",
            "Epoch 1/10\n",
            "3375/3375 [==============================] - 7s 2ms/step - loss: 0.4639 - accuracy: 0.8308 - val_loss: 0.4314 - val_accuracy: 0.8486\n",
            "Epoch 2/10\n",
            "3375/3375 [==============================] - 7s 2ms/step - loss: 0.4090 - accuracy: 0.8508 - val_loss: 0.4150 - val_accuracy: 0.8518\n",
            "Epoch 3/10\n",
            "3375/3375 [==============================] - 7s 2ms/step - loss: 0.3890 - accuracy: 0.8589 - val_loss: 0.4144 - val_accuracy: 0.8553\n",
            "Epoch 4/10\n",
            "3375/3375 [==============================] - 7s 2ms/step - loss: 0.3755 - accuracy: 0.8629 - val_loss: 0.4111 - val_accuracy: 0.8539\n",
            "Epoch 5/10\n",
            "3375/3375 [==============================] - 7s 2ms/step - loss: 0.3643 - accuracy: 0.8679 - val_loss: 0.4151 - val_accuracy: 0.8512\n",
            "Epoch 6/10\n",
            "3375/3375 [==============================] - 7s 2ms/step - loss: 0.3558 - accuracy: 0.8712 - val_loss: 0.4157 - val_accuracy: 0.8543\n",
            "evaluation on test set\n",
            "238/238 [==============================] - 1s 2ms/step - loss: 0.4249 - accuracy: 0.8463\n",
            "Epoch 1/10\n",
            "3375/3375 [==============================] - 7s 2ms/step - loss: 0.7768 - accuracy: 0.6981 - val_loss: 0.7661 - val_accuracy: 0.6795\n",
            "Epoch 2/10\n",
            "3375/3375 [==============================] - 7s 2ms/step - loss: 0.7417 - accuracy: 0.7205 - val_loss: 0.7885 - val_accuracy: 0.6801\n",
            "Epoch 3/10\n",
            "3375/3375 [==============================] - 7s 2ms/step - loss: 0.7887 - accuracy: 0.7157 - val_loss: 0.8315 - val_accuracy: 0.6969\n",
            "evaluation on test set\n",
            "238/238 [==============================] - 1s 2ms/step - loss: 0.8381 - accuracy: 0.6980\n"
          ]
        }
      ]
    },
    {
      "cell_type": "markdown",
      "metadata": {
        "id": "RzTSjfwptkHJ"
      },
      "source": [
        "Let's plot the results"
      ]
    },
    {
      "cell_type": "code",
      "metadata": {
        "id": "cIlN1vlioIYh",
        "colab": {
          "base_uri": "https://localhost:8080/",
          "height": 978
        },
        "outputId": "5044fcfd-4dca-4451-cf49-82b8915c217d"
      },
      "source": [
        "for learning_rate, history in zip(learning_rates, histories):\n",
        "    print(\"Learning rate:\", learning_rate)\n",
        "    plot_learning_acc_and_loss(history)"
      ],
      "execution_count": null,
      "outputs": [
        {
          "output_type": "stream",
          "name": "stdout",
          "text": [
            "Learning rate: 0.0001\n"
          ]
        },
        {
          "output_type": "display_data",
          "data": {
            "text/plain": [
              "<Figure size 576x360 with 1 Axes>"
            ],
            "image/png": "[encoded data removed]"
          },
          "metadata": {
            "needs_background": "light"
          }
        },
        {
          "output_type": "stream",
          "name": "stdout",
          "text": [
            "Learning rate: 0.01\n"
          ]
        },
        {
          "output_type": "display_data",
          "data": {
            "text/plain": [
              "<Figure size 576x360 with 1 Axes>"
            ],
            "image/png": "[encoded data removed]"
          },
          "metadata": {
            "needs_background": "light"
          }
        },
        {
          "output_type": "stream",
          "name": "stdout",
          "text": [
            "Learning rate: 0.1\n"
          ]
        },
        {
          "output_type": "display_data",
          "data": {
            "text/plain": [
              "<Figure size 576x360 with 1 Axes>"
            ],
            "image/png": "[encoded data removed]"
          },
          "metadata": {
            "needs_background": "light"
          }
        }
      ]
    },
    {
      "cell_type": "markdown",
      "metadata": {
        "id": "_JntujSWq3e5"
      },
      "source": [
        "### GRID Search:\n",
        "\n",
        "Since a deep net has many hyperparameters, in order to find the best ones, we have to consider all the possible combinations of all of the possible values. One common method to perform this complex task is Grid-Search.\n",
        "Given a set of values for each hyper-parameter, Grid-Search will build a model on each parameter combination possible. It iterates through every parameter combination and stores a model for each combination. Finally, the model that obtained the best result on the validation set will be select.\n",
        "\n",
        "In order to perfrom Grid-Search we will use the `GridSearchCV` class from `scikit-learn`."
      ]
    },
    {
      "cell_type": "markdown",
      "metadata": {
        "id": "CPz629YSrDhN"
      },
      "source": [
        "Let's Create a `build_model()` function that takes two arguments, `n_neurons` and `learning_rate`, and builds, compiles and returns a model with the given number of of neurons and the given learning rate.\n",
        "In order to limit the time requirements of the process we will consider only these two hyper-paramters.\n",
        "\n",
        "in the following code cell we will define the `build_model` function."
      ]
    },
    {
      "cell_type": "code",
      "metadata": {
        "id": "oGSKWTTtqxZ4",
        "colab": {
          "base_uri": "https://localhost:8080/"
        },
        "outputId": "f78dbffc-a07f-4e02-eb56-edf01acb0c0c"
      },
      "source": [
        "def build_model(n_units=30, learning_rate=1e-3):\n",
        "    # The function has to build a model similar to the ones we used in previuously:\n",
        "    #- a input layer \n",
        "    #- one or two Dense layers composed of n_units and that exploit Relu activation function \n",
        "    #- the output layer that uses the softmax activation function\n",
        "    # Then, the model has to be compiled.\n",
        "    model = keras.models.Sequential([\n",
        "                                    tf.keras.Input(shape=(num_words,)),\n",
        "                                    keras.layers.Dense(32, activation=\"relu\"),\n",
        "                                    keras.layers.Dense(32, activation=\"relu\"),\n",
        "                                    keras.layers.Dense(4, activation=\"softmax\")\n",
        "                                     \n",
        "                                     ])\n",
        "    \n",
        "    #  Then, the model has to be compiled.\n",
        "\n",
        "    model.compile(loss=\"sparse_categorical_crossentropy\",\n",
        "              optimizer=keras.optimizers.Adam(learning_rate=learning_rate),\n",
        "              metrics=[\"accuracy\"])\n",
        "    \n",
        "    return model\n",
        "\n",
        "    \n",
        "#Lastly we are Creating a keras.wrappers.scikit_learn.KerasRegressor and pass the build_model \n",
        "#function to the constructor. This gives us a Scikit-Learn compatible predictor\n",
        "keras_reg = keras.wrappers.scikit_learn.KerasRegressor(build_model)"
      ],
      "execution_count": null,
      "outputs": [
        {
          "output_type": "stream",
          "name": "stderr",
          "text": [
            "/usr/local/lib/python3.7/dist-packages/ipykernel_launcher.py:26: DeprecationWarning: KerasRegressor is deprecated, use Sci-Keras (https://github.com/adriangb/scikeras) instead. See https://www.adriangb.com/scikeras/stable/migration.html for help migrating.\n"
          ]
        }
      ]
    },
    {
      "cell_type": "markdown",
      "metadata": {
        "id": "PS6W3A2LxDg5"
      },
      "source": [
        "Let's define the lists of hyper-parameters' values. Also in this case, we use a very limited size lists, but in a real-world scenario a reasonable amount of possible values should be considered (try to add some values and check how much the time required to perform the Grid-Search increases)"
      ]
    },
    {
      "cell_type": "code",
      "metadata": {
        "id": "y-uldCW3ru24"
      },
      "source": [
        "param_distribs = {\n",
        "    \"n_units\": [8,16,64],# [TO COMPLETE] insert a list that contains few (2 or 3) reasonable value\n",
        "    \"learning_rate\": [1e-3,1e-4,1e-5] #[TO COMPLETE] insert a list that contains few (2 or 3) reasonable values\n",
        "    #Check how the time required to perform GRID search increases when increasing the number of values for each hyper-parameter.\n",
        "}"
      ],
      "execution_count": null,
      "outputs": []
    },
    {
      "cell_type": "markdown",
      "metadata": {
        "id": "bEiBxVYtx_sK"
      },
      "source": [
        "Useing a `sklearn.model_selection.GridSearchCV` to search the hyperparameter space of our `KerasRegressor`"
      ]
    },
    {
      "cell_type": "code",
      "metadata": {
        "id": "iobF2Bvdr9ER"
      },
      "source": [
        "from sklearn.model_selection import GridSearchCV\n",
        "\n",
        "grid_search = GridSearchCV(keras_reg, param_distribs)"
      ],
      "execution_count": null,
      "outputs": []
    },
    {
      "cell_type": "markdown",
      "metadata": {
        "id": "LVGMcZz_yKSX"
      },
      "source": [
        "Run the Grid-Search"
      ]
    },
    {
      "cell_type": "code",
      "metadata": {
        "id": "-BA3vgTjr-hw",
        "colab": {
          "base_uri": "https://localhost:8080/"
        },
        "outputId": "ed1487dc-0711-4f8d-e63c-1f831cdcf5a8"
      },
      "source": [
        "\n",
        "grid_search.fit(X_train.numpy(), y_train.numpy(), epochs=5, #The number of epochs can be modified (check what happens by increasing it)\n",
        "                validation_data=(X_valid.numpy(), y_valid.numpy()))"
      ],
      "execution_count": null,
      "outputs": [
        {
          "output_type": "stream",
          "name": "stdout",
          "text": [
            "Epoch 1/5\n",
            "2700/2700 [==============================] - 7s 2ms/step - loss: 0.4755 - accuracy: 0.8292 - val_loss: 0.4299 - val_accuracy: 0.8443\n",
            "Epoch 2/5\n",
            "2700/2700 [==============================] - 6s 2ms/step - loss: 0.3942 - accuracy: 0.8561 - val_loss: 0.4008 - val_accuracy: 0.8580\n",
            "Epoch 3/5\n",
            "2700/2700 [==============================] - 6s 2ms/step - loss: 0.3666 - accuracy: 0.8657 - val_loss: 0.4009 - val_accuracy: 0.8567\n",
            "Epoch 4/5\n",
            "2700/2700 [==============================] - 6s 2ms/step - loss: 0.3421 - accuracy: 0.8752 - val_loss: 0.3977 - val_accuracy: 0.8568\n",
            "Epoch 5/5\n",
            "2700/2700 [==============================] - 7s 2ms/step - loss: 0.3190 - accuracy: 0.8834 - val_loss: 0.4047 - val_accuracy: 0.8556\n",
            "675/675 [==============================] - 1s 2ms/step - loss: 0.3943 - accuracy: 0.8587\n",
            "Epoch 1/5\n",
            "2700/2700 [==============================] - 8s 3ms/step - loss: 0.4795 - accuracy: 0.8276 - val_loss: 0.4273 - val_accuracy: 0.8472\n",
            "Epoch 2/5\n",
            "2700/2700 [==============================] - 7s 3ms/step - loss: 0.3940 - accuracy: 0.8558 - val_loss: 0.4067 - val_accuracy: 0.8522\n",
            "Epoch 3/5\n",
            "2700/2700 [==============================] - 7s 3ms/step - loss: 0.3664 - accuracy: 0.8653 - val_loss: 0.4049 - val_accuracy: 0.8550\n",
            "Epoch 4/5\n",
            "2700/2700 [==============================] - 7s 2ms/step - loss: 0.3423 - accuracy: 0.8734 - val_loss: 0.4025 - val_accuracy: 0.8550\n",
            "Epoch 5/5\n",
            "2700/2700 [==============================] - 6s 2ms/step - loss: 0.3193 - accuracy: 0.8830 - val_loss: 0.4121 - val_accuracy: 0.8536\n",
            "675/675 [==============================] - 1s 2ms/step - loss: 0.4010 - accuracy: 0.8543\n",
            "Epoch 1/5\n",
            "2700/2700 [==============================] - 7s 3ms/step - loss: 0.4712 - accuracy: 0.8307 - val_loss: 0.4238 - val_accuracy: 0.8486\n",
            "Epoch 2/5\n",
            "2700/2700 [==============================] - 7s 3ms/step - loss: 0.3904 - accuracy: 0.8577 - val_loss: 0.4018 - val_accuracy: 0.8558\n",
            "Epoch 3/5\n",
            "2700/2700 [==============================] - 8s 3ms/step - loss: 0.3616 - accuracy: 0.8674 - val_loss: 0.3945 - val_accuracy: 0.8576\n",
            "Epoch 4/5\n",
            "2700/2700 [==============================] - 6s 2ms/step - loss: 0.3358 - accuracy: 0.8775 - val_loss: 0.4029 - val_accuracy: 0.8548\n",
            "Epoch 5/5\n",
            "2700/2700 [==============================] - 6s 2ms/step - loss: 0.3124 - accuracy: 0.8858 - val_loss: 0.3983 - val_accuracy: 0.8578\n",
            "675/675 [==============================] - 1s 2ms/step - loss: 0.4081 - accuracy: 0.8520\n",
            "Epoch 1/5\n",
            "2700/2700 [==============================] - 7s 2ms/step - loss: 0.4777 - accuracy: 0.8280 - val_loss: 0.4189 - val_accuracy: 0.8480\n",
            "Epoch 2/5\n",
            "2700/2700 [==============================] - 6s 2ms/step - loss: 0.3962 - accuracy: 0.8545 - val_loss: 0.4028 - val_accuracy: 0.8536\n",
            "Epoch 3/5\n",
            "2700/2700 [==============================] - 7s 2ms/step - loss: 0.3656 - accuracy: 0.8647 - val_loss: 0.3955 - val_accuracy: 0.8553\n",
            "Epoch 4/5\n",
            "2700/2700 [==============================] - 6s 2ms/step - loss: 0.3390 - accuracy: 0.8760 - val_loss: 0.4008 - val_accuracy: 0.8541\n",
            "Epoch 5/5\n",
            "2700/2700 [==============================] - 6s 2ms/step - loss: 0.3150 - accuracy: 0.8840 - val_loss: 0.4015 - val_accuracy: 0.8547\n",
            "675/675 [==============================] - 1s 2ms/step - loss: 0.3928 - accuracy: 0.8594\n",
            "Epoch 1/5\n",
            "2700/2700 [==============================] - 7s 2ms/step - loss: 0.4779 - accuracy: 0.8272 - val_loss: 0.4141 - val_accuracy: 0.8518\n",
            "Epoch 2/5\n",
            "2700/2700 [==============================] - 7s 2ms/step - loss: 0.3892 - accuracy: 0.8568 - val_loss: 0.4030 - val_accuracy: 0.8513\n",
            "Epoch 3/5\n",
            "2700/2700 [==============================] - 7s 2ms/step - loss: 0.3617 - accuracy: 0.8665 - val_loss: 0.3950 - val_accuracy: 0.8587\n",
            "Epoch 4/5\n",
            "2700/2700 [==============================] - 6s 2ms/step - loss: 0.3367 - accuracy: 0.8757 - val_loss: 0.3951 - val_accuracy: 0.8543\n",
            "Epoch 5/5\n",
            "2700/2700 [==============================] - 6s 2ms/step - loss: 0.3134 - accuracy: 0.8852 - val_loss: 0.4048 - val_accuracy: 0.8543\n",
            "675/675 [==============================] - 1s 2ms/step - loss: 0.4087 - accuracy: 0.8564\n",
            "Epoch 1/5\n",
            "2700/2700 [==============================] - 7s 2ms/step - loss: 0.4776 - accuracy: 0.8278 - val_loss: 0.4333 - val_accuracy: 0.8448\n",
            "Epoch 2/5\n",
            "2700/2700 [==============================] - 7s 3ms/step - loss: 0.3952 - accuracy: 0.8557 - val_loss: 0.4030 - val_accuracy: 0.8543\n",
            "Epoch 3/5\n",
            "2700/2700 [==============================] - 7s 3ms/step - loss: 0.3675 - accuracy: 0.8652 - val_loss: 0.4034 - val_accuracy: 0.8553\n",
            "Epoch 4/5\n",
            "2700/2700 [==============================] - 7s 2ms/step - loss: 0.3433 - accuracy: 0.8746 - val_loss: 0.3965 - val_accuracy: 0.8567\n",
            "Epoch 5/5\n",
            "2700/2700 [==============================] - 6s 2ms/step - loss: 0.3197 - accuracy: 0.8833 - val_loss: 0.4030 - val_accuracy: 0.8559\n",
            "675/675 [==============================] - 1s 2ms/step - loss: 0.3874 - accuracy: 0.8592\n",
            "Epoch 1/5\n",
            "2700/2700 [==============================] - 7s 2ms/step - loss: 0.4762 - accuracy: 0.8280 - val_loss: 0.4282 - val_accuracy: 0.8477\n",
            "Epoch 2/5\n",
            "2700/2700 [==============================] - 7s 2ms/step - loss: 0.3932 - accuracy: 0.8573 - val_loss: 0.4078 - val_accuracy: 0.8535\n",
            "Epoch 3/5\n",
            "2700/2700 [==============================] - 6s 2ms/step - loss: 0.3654 - accuracy: 0.8666 - val_loss: 0.4049 - val_accuracy: 0.8554\n",
            "Epoch 4/5\n",
            "2700/2700 [==============================] - 6s 2ms/step - loss: 0.3409 - accuracy: 0.8744 - val_loss: 0.4026 - val_accuracy: 0.8559\n",
            "Epoch 5/5\n",
            "2700/2700 [==============================] - 6s 2ms/step - loss: 0.3182 - accuracy: 0.8839 - val_loss: 0.4132 - val_accuracy: 0.8548\n",
            "675/675 [==============================] - 1s 2ms/step - loss: 0.4076 - accuracy: 0.8527\n",
            "Epoch 1/5\n",
            "2700/2700 [==============================] - 7s 2ms/step - loss: 0.4770 - accuracy: 0.8289 - val_loss: 0.4288 - val_accuracy: 0.8473\n",
            "Epoch 2/5\n",
            "2700/2700 [==============================] - 9s 3ms/step - loss: 0.3932 - accuracy: 0.8569 - val_loss: 0.4044 - val_accuracy: 0.8521\n",
            "Epoch 3/5\n",
            "2700/2700 [==============================] - 6s 2ms/step - loss: 0.3674 - accuracy: 0.8653 - val_loss: 0.3974 - val_accuracy: 0.8568\n",
            "Epoch 4/5\n",
            "2700/2700 [==============================] - 7s 2ms/step - loss: 0.3432 - accuracy: 0.8742 - val_loss: 0.4004 - val_accuracy: 0.8560\n",
            "Epoch 5/5\n",
            "2700/2700 [==============================] - 6s 2ms/step - loss: 0.3202 - accuracy: 0.8826 - val_loss: 0.4009 - val_accuracy: 0.8568\n",
            "675/675 [==============================] - 1s 2ms/step - loss: 0.4101 - accuracy: 0.8514\n",
            "Epoch 1/5\n",
            "2700/2700 [==============================] - 7s 2ms/step - loss: 0.4797 - accuracy: 0.8271 - val_loss: 0.4187 - val_accuracy: 0.8493\n",
            "Epoch 2/5\n",
            "2700/2700 [==============================] - 6s 2ms/step - loss: 0.3979 - accuracy: 0.8547 - val_loss: 0.4047 - val_accuracy: 0.8533\n",
            "Epoch 3/5\n",
            "2700/2700 [==============================] - 7s 2ms/step - loss: 0.3700 - accuracy: 0.8635 - val_loss: 0.3963 - val_accuracy: 0.8545\n",
            "Epoch 4/5\n",
            "2700/2700 [==============================] - 7s 2ms/step - loss: 0.3450 - accuracy: 0.8733 - val_loss: 0.4014 - val_accuracy: 0.8524\n",
            "Epoch 5/5\n",
            "2700/2700 [==============================] - 6s 2ms/step - loss: 0.3215 - accuracy: 0.8812 - val_loss: 0.3981 - val_accuracy: 0.8566\n",
            "675/675 [==============================] - 1s 2ms/step - loss: 0.3914 - accuracy: 0.8607\n",
            "Epoch 1/5\n",
            "2700/2700 [==============================] - 7s 2ms/step - loss: 0.4745 - accuracy: 0.8287 - val_loss: 0.4139 - val_accuracy: 0.8523\n",
            "Epoch 2/5\n",
            "2700/2700 [==============================] - 7s 2ms/step - loss: 0.3910 - accuracy: 0.8561 - val_loss: 0.4023 - val_accuracy: 0.8527\n",
            "Epoch 3/5\n",
            "2700/2700 [==============================] - 7s 2ms/step - loss: 0.3631 - accuracy: 0.8660 - val_loss: 0.3961 - val_accuracy: 0.8565\n",
            "Epoch 4/5\n",
            "2700/2700 [==============================] - 6s 2ms/step - loss: 0.3380 - accuracy: 0.8752 - val_loss: 0.3987 - val_accuracy: 0.8531\n",
            "Epoch 5/5\n",
            "2700/2700 [==============================] - 6s 2ms/step - loss: 0.3146 - accuracy: 0.8836 - val_loss: 0.4051 - val_accuracy: 0.8553\n",
            "675/675 [==============================] - 1s 2ms/step - loss: 0.4100 - accuracy: 0.8552\n",
            "Epoch 1/5\n",
            "2700/2700 [==============================] - 7s 2ms/step - loss: 0.4802 - accuracy: 0.8257 - val_loss: 0.4349 - val_accuracy: 0.8422\n",
            "Epoch 2/5\n",
            "2700/2700 [==============================] - 6s 2ms/step - loss: 0.3943 - accuracy: 0.8561 - val_loss: 0.4008 - val_accuracy: 0.8558\n",
            "Epoch 3/5\n",
            "2700/2700 [==============================] - 7s 2ms/step - loss: 0.3652 - accuracy: 0.8658 - val_loss: 0.3998 - val_accuracy: 0.8558\n",
            "Epoch 4/5\n",
            "2700/2700 [==============================] - 7s 3ms/step - loss: 0.3396 - accuracy: 0.8762 - val_loss: 0.3971 - val_accuracy: 0.8566\n",
            "Epoch 5/5\n",
            "2700/2700 [==============================] - 7s 3ms/step - loss: 0.3155 - accuracy: 0.8840 - val_loss: 0.4067 - val_accuracy: 0.8562\n",
            "675/675 [==============================] - 1s 2ms/step - loss: 0.3938 - accuracy: 0.8594\n",
            "Epoch 1/5\n",
            "2700/2700 [==============================] - 7s 3ms/step - loss: 0.4753 - accuracy: 0.8285 - val_loss: 0.4248 - val_accuracy: 0.8484\n",
            "Epoch 2/5\n",
            "2700/2700 [==============================] - 6s 2ms/step - loss: 0.3931 - accuracy: 0.8568 - val_loss: 0.4039 - val_accuracy: 0.8542\n",
            "Epoch 3/5\n",
            "2700/2700 [==============================] - 7s 2ms/step - loss: 0.3662 - accuracy: 0.8656 - val_loss: 0.4018 - val_accuracy: 0.8576\n",
            "Epoch 4/5\n",
            "2700/2700 [==============================] - 7s 2ms/step - loss: 0.3417 - accuracy: 0.8744 - val_loss: 0.3997 - val_accuracy: 0.8583\n",
            "Epoch 5/5\n",
            "2700/2700 [==============================] - 7s 3ms/step - loss: 0.3180 - accuracy: 0.8844 - val_loss: 0.4028 - val_accuracy: 0.8575\n",
            "675/675 [==============================] - 1s 2ms/step - loss: 0.4027 - accuracy: 0.8538\n",
            "Epoch 1/5\n",
            "2700/2700 [==============================] - 7s 3ms/step - loss: 0.4734 - accuracy: 0.8307 - val_loss: 0.4237 - val_accuracy: 0.8498\n",
            "Epoch 2/5\n",
            "2700/2700 [==============================] - 7s 2ms/step - loss: 0.3906 - accuracy: 0.8571 - val_loss: 0.4026 - val_accuracy: 0.8521\n",
            "Epoch 3/5\n",
            "2700/2700 [==============================] - 6s 2ms/step - loss: 0.3652 - accuracy: 0.8650 - val_loss: 0.3971 - val_accuracy: 0.8557\n",
            "Epoch 4/5\n",
            "2700/2700 [==============================] - 7s 2ms/step - loss: 0.3428 - accuracy: 0.8738 - val_loss: 0.3993 - val_accuracy: 0.8563\n",
            "Epoch 5/5\n",
            "2700/2700 [==============================] - 7s 2ms/step - loss: 0.3216 - accuracy: 0.8824 - val_loss: 0.3977 - val_accuracy: 0.8573\n",
            "675/675 [==============================] - 1s 2ms/step - loss: 0.4103 - accuracy: 0.8527\n",
            "Epoch 1/5\n",
            "2700/2700 [==============================] - 7s 3ms/step - loss: 0.4779 - accuracy: 0.8276 - val_loss: 0.4197 - val_accuracy: 0.8490\n",
            "Epoch 2/5\n",
            "2700/2700 [==============================] - 6s 2ms/step - loss: 0.3965 - accuracy: 0.8547 - val_loss: 0.4058 - val_accuracy: 0.8522\n",
            "Epoch 3/5\n",
            "2700/2700 [==============================] - 6s 2ms/step - loss: 0.3678 - accuracy: 0.8642 - val_loss: 0.4007 - val_accuracy: 0.8521\n",
            "Epoch 4/5\n",
            "2700/2700 [==============================] - 6s 2ms/step - loss: 0.3427 - accuracy: 0.8747 - val_loss: 0.4042 - val_accuracy: 0.8533\n",
            "Epoch 5/5\n",
            "2700/2700 [==============================] - 7s 2ms/step - loss: 0.3194 - accuracy: 0.8830 - val_loss: 0.4067 - val_accuracy: 0.8525\n",
            "675/675 [==============================] - 1s 2ms/step - loss: 0.3969 - accuracy: 0.8598\n",
            "Epoch 1/5\n",
            "2700/2700 [==============================] - 7s 2ms/step - loss: 0.4749 - accuracy: 0.8285 - val_loss: 0.4143 - val_accuracy: 0.8533\n",
            "Epoch 2/5\n",
            "2700/2700 [==============================] - 7s 2ms/step - loss: 0.3901 - accuracy: 0.8571 - val_loss: 0.4013 - val_accuracy: 0.8525\n",
            "Epoch 3/5\n",
            "2700/2700 [==============================] - 6s 2ms/step - loss: 0.3628 - accuracy: 0.8658 - val_loss: 0.3949 - val_accuracy: 0.8563\n",
            "Epoch 4/5\n",
            "2700/2700 [==============================] - 6s 2ms/step - loss: 0.3387 - accuracy: 0.8752 - val_loss: 0.3910 - val_accuracy: 0.8593\n",
            "Epoch 5/5\n",
            "2700/2700 [==============================] - 6s 2ms/step - loss: 0.3157 - accuracy: 0.8833 - val_loss: 0.4018 - val_accuracy: 0.8562\n",
            "675/675 [==============================] - 1s 2ms/step - loss: 0.4130 - accuracy: 0.8539\n",
            "Epoch 1/5\n",
            "2700/2700 [==============================] - 7s 3ms/step - loss: 0.7966 - accuracy: 0.7059 - val_loss: 0.4834 - val_accuracy: 0.8382\n",
            "Epoch 2/5\n",
            "2700/2700 [==============================] - 7s 2ms/step - loss: 0.4442 - accuracy: 0.8467 - val_loss: 0.4375 - val_accuracy: 0.8487\n",
            "Epoch 3/5\n",
            "2700/2700 [==============================] - 6s 2ms/step - loss: 0.4141 - accuracy: 0.8554 - val_loss: 0.4269 - val_accuracy: 0.8508\n",
            "Epoch 4/5\n",
            "2700/2700 [==============================] - 6s 2ms/step - loss: 0.4015 - accuracy: 0.8582 - val_loss: 0.4197 - val_accuracy: 0.8507\n",
            "Epoch 5/5\n",
            "2700/2700 [==============================] - 6s 2ms/step - loss: 0.3936 - accuracy: 0.8605 - val_loss: 0.4167 - val_accuracy: 0.8501\n",
            "675/675 [==============================] - 1s 2ms/step - loss: 0.4043 - accuracy: 0.8562\n",
            "Epoch 1/5\n",
            "2700/2700 [==============================] - 7s 2ms/step - loss: 0.7750 - accuracy: 0.7206 - val_loss: 0.4803 - val_accuracy: 0.8369\n",
            "Epoch 2/5\n",
            "2700/2700 [==============================] - 6s 2ms/step - loss: 0.4388 - accuracy: 0.8488 - val_loss: 0.4381 - val_accuracy: 0.8489\n",
            "Epoch 3/5\n",
            "2700/2700 [==============================] - 6s 2ms/step - loss: 0.4112 - accuracy: 0.8555 - val_loss: 0.4276 - val_accuracy: 0.8522\n",
            "Epoch 4/5\n",
            "2700/2700 [==============================] - 7s 2ms/step - loss: 0.3995 - accuracy: 0.8584 - val_loss: 0.4209 - val_accuracy: 0.8515\n",
            "Epoch 5/5\n",
            "2700/2700 [==============================] - 7s 3ms/step - loss: 0.3925 - accuracy: 0.8604 - val_loss: 0.4178 - val_accuracy: 0.8519\n",
            "675/675 [==============================] - 1s 2ms/step - loss: 0.4120 - accuracy: 0.8525\n",
            "Epoch 1/5\n",
            "2700/2700 [==============================] - 7s 2ms/step - loss: 0.7720 - accuracy: 0.7194 - val_loss: 0.4815 - val_accuracy: 0.8355\n",
            "Epoch 2/5\n",
            "2700/2700 [==============================] - 7s 2ms/step - loss: 0.4369 - accuracy: 0.8490 - val_loss: 0.4384 - val_accuracy: 0.8472\n",
            "Epoch 3/5\n",
            "2700/2700 [==============================] - 7s 2ms/step - loss: 0.4091 - accuracy: 0.8561 - val_loss: 0.4280 - val_accuracy: 0.8499\n",
            "Epoch 4/5\n",
            "2700/2700 [==============================] - 7s 2ms/step - loss: 0.3975 - accuracy: 0.8603 - val_loss: 0.4234 - val_accuracy: 0.8499\n",
            "Epoch 5/5\n",
            "2700/2700 [==============================] - 6s 2ms/step - loss: 0.3903 - accuracy: 0.8621 - val_loss: 0.4192 - val_accuracy: 0.8512\n",
            "675/675 [==============================] - 1s 2ms/step - loss: 0.4237 - accuracy: 0.8472\n",
            "Epoch 1/5\n",
            "2700/2700 [==============================] - 7s 3ms/step - loss: 0.7526 - accuracy: 0.7345 - val_loss: 0.4751 - val_accuracy: 0.8361\n",
            "Epoch 2/5\n",
            "2700/2700 [==============================] - 6s 2ms/step - loss: 0.4379 - accuracy: 0.8469 - val_loss: 0.4344 - val_accuracy: 0.8486\n",
            "Epoch 3/5\n",
            "2700/2700 [==============================] - 7s 2ms/step - loss: 0.4112 - accuracy: 0.8533 - val_loss: 0.4244 - val_accuracy: 0.8499\n",
            "Epoch 4/5\n",
            "2700/2700 [==============================] - 6s 2ms/step - loss: 0.3999 - accuracy: 0.8574 - val_loss: 0.4209 - val_accuracy: 0.8518\n",
            "Epoch 5/5\n",
            "2700/2700 [==============================] - 6s 2ms/step - loss: 0.3930 - accuracy: 0.8587 - val_loss: 0.4156 - val_accuracy: 0.8522\n",
            "675/675 [==============================] - 1s 2ms/step - loss: 0.4028 - accuracy: 0.8572\n",
            "Epoch 1/5\n",
            "2700/2700 [==============================] - 8s 3ms/step - loss: 0.7514 - accuracy: 0.7356 - val_loss: 0.4772 - val_accuracy: 0.8347\n",
            "Epoch 2/5\n",
            "2700/2700 [==============================] - 6s 2ms/step - loss: 0.4364 - accuracy: 0.8486 - val_loss: 0.4383 - val_accuracy: 0.8471\n",
            "Epoch 3/5\n",
            "2700/2700 [==============================] - 6s 2ms/step - loss: 0.4101 - accuracy: 0.8558 - val_loss: 0.4279 - val_accuracy: 0.8492\n",
            "Epoch 4/5\n",
            "2700/2700 [==============================] - 6s 2ms/step - loss: 0.3987 - accuracy: 0.8592 - val_loss: 0.4237 - val_accuracy: 0.8510\n",
            "Epoch 5/5\n",
            "2700/2700 [==============================] - 7s 2ms/step - loss: 0.3917 - accuracy: 0.8606 - val_loss: 0.4201 - val_accuracy: 0.8509\n",
            "675/675 [==============================] - 1s 2ms/step - loss: 0.4204 - accuracy: 0.8515\n",
            "Epoch 1/5\n",
            "2700/2700 [==============================] - 7s 2ms/step - loss: 0.7658 - accuracy: 0.7335 - val_loss: 0.4763 - val_accuracy: 0.8398\n",
            "Epoch 2/5\n",
            "2700/2700 [==============================] - 6s 2ms/step - loss: 0.4390 - accuracy: 0.8488 - val_loss: 0.4365 - val_accuracy: 0.8479\n",
            "Epoch 3/5\n",
            "2700/2700 [==============================] - 7s 2ms/step - loss: 0.4117 - accuracy: 0.8552 - val_loss: 0.4262 - val_accuracy: 0.8506\n",
            "Epoch 4/5\n",
            "2700/2700 [==============================] - 6s 2ms/step - loss: 0.4002 - accuracy: 0.8584 - val_loss: 0.4201 - val_accuracy: 0.8510\n",
            "Epoch 5/5\n",
            "2700/2700 [==============================] - 7s 2ms/step - loss: 0.3932 - accuracy: 0.8603 - val_loss: 0.4176 - val_accuracy: 0.8517\n",
            "675/675 [==============================] - 1s 2ms/step - loss: 0.4041 - accuracy: 0.8567\n",
            "Epoch 1/5\n",
            "2700/2700 [==============================] - 8s 2ms/step - loss: 0.7632 - accuracy: 0.7344 - val_loss: 0.4798 - val_accuracy: 0.8373\n",
            "Epoch 2/5\n",
            "2700/2700 [==============================] - 7s 2ms/step - loss: 0.4395 - accuracy: 0.8480 - val_loss: 0.4404 - val_accuracy: 0.8470\n",
            "Epoch 3/5\n",
            "2700/2700 [==============================] - 7s 2ms/step - loss: 0.4124 - accuracy: 0.8554 - val_loss: 0.4303 - val_accuracy: 0.8497\n",
            "Epoch 4/5\n",
            "2700/2700 [==============================] - 6s 2ms/step - loss: 0.4007 - accuracy: 0.8583 - val_loss: 0.4243 - val_accuracy: 0.8497\n",
            "Epoch 5/5\n",
            "2700/2700 [==============================] - 7s 2ms/step - loss: 0.3935 - accuracy: 0.8598 - val_loss: 0.4216 - val_accuracy: 0.8507\n",
            "675/675 [==============================] - 1s 2ms/step - loss: 0.4123 - accuracy: 0.8527\n",
            "Epoch 1/5\n",
            "2700/2700 [==============================] - 8s 3ms/step - loss: 0.7646 - accuracy: 0.7262 - val_loss: 0.4829 - val_accuracy: 0.8356\n",
            "Epoch 2/5\n",
            "2700/2700 [==============================] - 8s 3ms/step - loss: 0.4376 - accuracy: 0.8485 - val_loss: 0.4377 - val_accuracy: 0.8477\n",
            "Epoch 3/5\n",
            "2700/2700 [==============================] - 7s 2ms/step - loss: 0.4098 - accuracy: 0.8563 - val_loss: 0.4280 - val_accuracy: 0.8493\n",
            "Epoch 4/5\n",
            "2700/2700 [==============================] - 7s 2ms/step - loss: 0.3987 - accuracy: 0.8597 - val_loss: 0.4238 - val_accuracy: 0.8483\n",
            "Epoch 5/5\n",
            "2700/2700 [==============================] - 7s 2ms/step - loss: 0.3922 - accuracy: 0.8616 - val_loss: 0.4190 - val_accuracy: 0.8506\n",
            "675/675 [==============================] - 1s 2ms/step - loss: 0.4246 - accuracy: 0.8478\n",
            "Epoch 1/5\n",
            "2700/2700 [==============================] - 7s 2ms/step - loss: 0.7678 - accuracy: 0.7342 - val_loss: 0.4807 - val_accuracy: 0.8353\n",
            "Epoch 2/5\n",
            "2700/2700 [==============================] - 7s 2ms/step - loss: 0.4434 - accuracy: 0.8453 - val_loss: 0.4373 - val_accuracy: 0.8478\n",
            "Epoch 3/5\n",
            "2700/2700 [==============================] - 7s 2ms/step - loss: 0.4146 - accuracy: 0.8528 - val_loss: 0.4257 - val_accuracy: 0.8499\n",
            "Epoch 4/5\n",
            "2700/2700 [==============================] - 7s 2ms/step - loss: 0.4022 - accuracy: 0.8562 - val_loss: 0.4218 - val_accuracy: 0.8504\n",
            "Epoch 5/5\n",
            "2700/2700 [==============================] - 7s 2ms/step - loss: 0.3944 - accuracy: 0.8588 - val_loss: 0.4157 - val_accuracy: 0.8519\n",
            "675/675 [==============================] - 1s 2ms/step - loss: 0.4042 - accuracy: 0.8564\n",
            "Epoch 1/5\n",
            "2700/2700 [==============================] - 7s 3ms/step - loss: 0.7512 - accuracy: 0.7328 - val_loss: 0.4774 - val_accuracy: 0.8358\n",
            "Epoch 2/5\n",
            "2700/2700 [==============================] - 7s 2ms/step - loss: 0.4372 - accuracy: 0.8487 - val_loss: 0.4375 - val_accuracy: 0.8469\n",
            "Epoch 3/5\n",
            "2700/2700 [==============================] - 7s 2ms/step - loss: 0.4095 - accuracy: 0.8560 - val_loss: 0.4261 - val_accuracy: 0.8501\n",
            "Epoch 4/5\n",
            "2700/2700 [==============================] - 7s 2ms/step - loss: 0.3972 - accuracy: 0.8594 - val_loss: 0.4208 - val_accuracy: 0.8512\n",
            "Epoch 5/5\n",
            "2700/2700 [==============================] - 6s 2ms/step - loss: 0.3898 - accuracy: 0.8608 - val_loss: 0.4169 - val_accuracy: 0.8527\n",
            "675/675 [==============================] - 1s 2ms/step - loss: 0.4186 - accuracy: 0.8512\n",
            "Epoch 1/5\n",
            "2700/2700 [==============================] - 7s 2ms/step - loss: 0.7642 - accuracy: 0.7327 - val_loss: 0.4771 - val_accuracy: 0.8375\n",
            "Epoch 2/5\n",
            "2700/2700 [==============================] - 7s 2ms/step - loss: 0.4411 - accuracy: 0.8484 - val_loss: 0.4386 - val_accuracy: 0.8470\n",
            "Epoch 3/5\n",
            "2700/2700 [==============================] - 6s 2ms/step - loss: 0.4150 - accuracy: 0.8544 - val_loss: 0.4288 - val_accuracy: 0.8506\n",
            "Epoch 4/5\n",
            "2700/2700 [==============================] - 7s 2ms/step - loss: 0.4041 - accuracy: 0.8581 - val_loss: 0.4228 - val_accuracy: 0.8506\n",
            "Epoch 5/5\n",
            "2700/2700 [==============================] - 6s 2ms/step - loss: 0.3975 - accuracy: 0.8593 - val_loss: 0.4200 - val_accuracy: 0.8508\n",
            "675/675 [==============================] - 1s 2ms/step - loss: 0.4057 - accuracy: 0.8565\n",
            "Epoch 1/5\n",
            "2700/2700 [==============================] - 7s 2ms/step - loss: 0.7763 - accuracy: 0.7322 - val_loss: 0.4836 - val_accuracy: 0.8370\n",
            "Epoch 2/5\n",
            "2700/2700 [==============================] - 6s 2ms/step - loss: 0.4429 - accuracy: 0.8472 - val_loss: 0.4422 - val_accuracy: 0.8482\n",
            "Epoch 3/5\n",
            "2700/2700 [==============================] - 7s 3ms/step - loss: 0.4146 - accuracy: 0.8548 - val_loss: 0.4314 - val_accuracy: 0.8493\n",
            "Epoch 4/5\n",
            "2700/2700 [==============================] - 6s 2ms/step - loss: 0.4027 - accuracy: 0.8579 - val_loss: 0.4249 - val_accuracy: 0.8505\n",
            "Epoch 5/5\n",
            "2700/2700 [==============================] - 7s 2ms/step - loss: 0.3955 - accuracy: 0.8594 - val_loss: 0.4221 - val_accuracy: 0.8512\n",
            "675/675 [==============================] - 1s 2ms/step - loss: 0.4146 - accuracy: 0.8520\n",
            "Epoch 1/5\n",
            "2700/2700 [==============================] - 7s 2ms/step - loss: 0.7663 - accuracy: 0.7338 - val_loss: 0.4824 - val_accuracy: 0.8372\n",
            "Epoch 2/5\n",
            "2700/2700 [==============================] - 7s 2ms/step - loss: 0.4394 - accuracy: 0.8480 - val_loss: 0.4403 - val_accuracy: 0.8479\n",
            "Epoch 3/5\n",
            "2700/2700 [==============================] - 7s 2ms/step - loss: 0.4108 - accuracy: 0.8556 - val_loss: 0.4287 - val_accuracy: 0.8506\n",
            "Epoch 4/5\n",
            "2700/2700 [==============================] - 6s 2ms/step - loss: 0.3979 - accuracy: 0.8598 - val_loss: 0.4227 - val_accuracy: 0.8495\n",
            "Epoch 5/5\n",
            "2700/2700 [==============================] - 7s 2ms/step - loss: 0.3897 - accuracy: 0.8615 - val_loss: 0.4177 - val_accuracy: 0.8505\n",
            "675/675 [==============================] - 1s 2ms/step - loss: 0.4235 - accuracy: 0.8463\n",
            "Epoch 1/5\n",
            "2700/2700 [==============================] - 7s 2ms/step - loss: 0.7763 - accuracy: 0.7292 - val_loss: 0.4758 - val_accuracy: 0.8346\n",
            "Epoch 2/5\n",
            "2700/2700 [==============================] - 6s 2ms/step - loss: 0.4388 - accuracy: 0.8470 - val_loss: 0.4346 - val_accuracy: 0.8473\n",
            "Epoch 3/5\n",
            "2700/2700 [==============================] - 6s 2ms/step - loss: 0.4116 - accuracy: 0.8538 - val_loss: 0.4243 - val_accuracy: 0.8512\n",
            "Epoch 4/5\n",
            "2700/2700 [==============================] - 7s 3ms/step - loss: 0.3999 - accuracy: 0.8573 - val_loss: 0.4203 - val_accuracy: 0.8497\n",
            "Epoch 5/5\n",
            "2700/2700 [==============================] - 7s 3ms/step - loss: 0.3927 - accuracy: 0.8591 - val_loss: 0.4147 - val_accuracy: 0.8521\n",
            "675/675 [==============================] - 1s 2ms/step - loss: 0.4027 - accuracy: 0.8560\n",
            "Epoch 1/5\n",
            "2700/2700 [==============================] - 7s 3ms/step - loss: 0.7745 - accuracy: 0.7332 - val_loss: 0.4821 - val_accuracy: 0.8362\n",
            "Epoch 2/5\n",
            "2700/2700 [==============================] - 7s 2ms/step - loss: 0.4404 - accuracy: 0.8481 - val_loss: 0.4389 - val_accuracy: 0.8473\n",
            "Epoch 3/5\n",
            "2700/2700 [==============================] - 7s 2ms/step - loss: 0.4119 - accuracy: 0.8559 - val_loss: 0.4271 - val_accuracy: 0.8492\n",
            "Epoch 4/5\n",
            "2700/2700 [==============================] - 7s 3ms/step - loss: 0.3997 - accuracy: 0.8582 - val_loss: 0.4211 - val_accuracy: 0.8499\n",
            "Epoch 5/5\n",
            "2700/2700 [==============================] - 7s 3ms/step - loss: 0.3924 - accuracy: 0.8600 - val_loss: 0.4168 - val_accuracy: 0.8518\n",
            "675/675 [==============================] - 1s 2ms/step - loss: 0.4173 - accuracy: 0.8529\n",
            "Epoch 1/5\n",
            "2700/2700 [==============================] - 7s 2ms/step - loss: 1.3632 - accuracy: 0.3821 - val_loss: 1.3310 - val_accuracy: 0.5085\n",
            "Epoch 2/5\n",
            "2700/2700 [==============================] - 7s 2ms/step - loss: 1.2686 - accuracy: 0.5991 - val_loss: 1.1939 - val_accuracy: 0.6671\n",
            "Epoch 3/5\n",
            "2700/2700 [==============================] - 7s 3ms/step - loss: 1.0905 - accuracy: 0.7063 - val_loss: 0.9911 - val_accuracy: 0.7345\n",
            "Epoch 4/5\n",
            "2700/2700 [==============================] - 7s 2ms/step - loss: 0.8968 - accuracy: 0.7560 - val_loss: 0.8182 - val_accuracy: 0.7692\n",
            "Epoch 5/5\n",
            "2700/2700 [==============================] - 7s 2ms/step - loss: 0.7503 - accuracy: 0.7850 - val_loss: 0.6996 - val_accuracy: 0.7901\n",
            "675/675 [==============================] - 1s 2ms/step - loss: 0.6955 - accuracy: 0.7944\n",
            "Epoch 1/5\n",
            "2700/2700 [==============================] - 7s 3ms/step - loss: 1.3597 - accuracy: 0.3331 - val_loss: 1.3152 - val_accuracy: 0.4428\n",
            "Epoch 2/5\n",
            "2700/2700 [==============================] - 7s 2ms/step - loss: 1.2331 - accuracy: 0.5377 - val_loss: 1.1333 - val_accuracy: 0.6183\n",
            "Epoch 3/5\n",
            "2700/2700 [==============================] - 6s 2ms/step - loss: 1.0204 - accuracy: 0.6791 - val_loss: 0.9151 - val_accuracy: 0.7186\n",
            "Epoch 4/5\n",
            "2700/2700 [==============================] - 7s 2ms/step - loss: 0.8235 - accuracy: 0.7559 - val_loss: 0.7521 - val_accuracy: 0.7710\n",
            "Epoch 5/5\n",
            "2700/2700 [==============================] - 7s 2ms/step - loss: 0.6902 - accuracy: 0.7903 - val_loss: 0.6511 - val_accuracy: 0.7960\n",
            "675/675 [==============================] - 1s 2ms/step - loss: 0.6491 - accuracy: 0.7961\n",
            "Epoch 1/5\n",
            "2700/2700 [==============================] - 7s 3ms/step - loss: 1.3631 - accuracy: 0.3082 - val_loss: 1.3262 - val_accuracy: 0.3966\n",
            "Epoch 2/5\n",
            "2700/2700 [==============================] - 7s 2ms/step - loss: 1.2624 - accuracy: 0.5065 - val_loss: 1.1798 - val_accuracy: 0.6062\n",
            "Epoch 3/5\n",
            "2700/2700 [==============================] - 6s 2ms/step - loss: 1.0771 - accuracy: 0.6723 - val_loss: 0.9725 - val_accuracy: 0.7201\n",
            "Epoch 4/5\n",
            "2700/2700 [==============================] - 7s 2ms/step - loss: 0.8766 - accuracy: 0.7536 - val_loss: 0.7932 - val_accuracy: 0.7709\n",
            "Epoch 5/5\n",
            "2700/2700 [==============================] - 7s 2ms/step - loss: 0.7237 - accuracy: 0.7892 - val_loss: 0.6741 - val_accuracy: 0.7924\n",
            "675/675 [==============================] - 1s 2ms/step - loss: 0.6784 - accuracy: 0.7900\n",
            "Epoch 1/5\n",
            "2700/2700 [==============================] - 7s 3ms/step - loss: 1.3579 - accuracy: 0.3211 - val_loss: 1.3141 - val_accuracy: 0.4390\n",
            "Epoch 2/5\n",
            "2700/2700 [==============================] - 7s 2ms/step - loss: 1.2388 - accuracy: 0.5731 - val_loss: 1.1474 - val_accuracy: 0.6617\n",
            "Epoch 3/5\n",
            "2700/2700 [==============================] - 7s 2ms/step - loss: 1.0425 - accuracy: 0.7171 - val_loss: 0.9406 - val_accuracy: 0.7496\n",
            "Epoch 4/5\n",
            "2700/2700 [==============================] - 7s 2ms/step - loss: 0.8521 - accuracy: 0.7707 - val_loss: 0.7762 - val_accuracy: 0.7812\n",
            "Epoch 5/5\n",
            "2700/2700 [==============================] - 6s 2ms/step - loss: 0.7141 - accuracy: 0.7942 - val_loss: 0.6676 - val_accuracy: 0.8002\n",
            "675/675 [==============================] - 1s 2ms/step - loss: 0.6593 - accuracy: 0.8055\n",
            "Epoch 1/5\n",
            "2700/2700 [==============================] - 8s 3ms/step - loss: 1.3624 - accuracy: 0.3474 - val_loss: 1.3232 - val_accuracy: 0.4693\n",
            "Epoch 2/5\n",
            "2700/2700 [==============================] - 7s 2ms/step - loss: 1.2480 - accuracy: 0.5765 - val_loss: 1.1555 - val_accuracy: 0.6573\n",
            "Epoch 3/5\n",
            "2700/2700 [==============================] - 7s 3ms/step - loss: 1.0419 - accuracy: 0.7086 - val_loss: 0.9373 - val_accuracy: 0.7460\n",
            "Epoch 4/5\n",
            "2700/2700 [==============================] - 6s 2ms/step - loss: 0.8437 - accuracy: 0.7677 - val_loss: 0.7691 - val_accuracy: 0.7814\n",
            "Epoch 5/5\n",
            "2700/2700 [==============================] - 7s 2ms/step - loss: 0.7042 - accuracy: 0.7931 - val_loss: 0.6603 - val_accuracy: 0.7991\n",
            "675/675 [==============================] - 1s 2ms/step - loss: 0.6589 - accuracy: 0.8005\n",
            "Epoch 1/5\n",
            "2700/2700 [==============================] - 8s 2ms/step - loss: 1.3587 - accuracy: 0.3476 - val_loss: 1.3161 - val_accuracy: 0.4500\n",
            "Epoch 2/5\n",
            "2700/2700 [==============================] - 6s 2ms/step - loss: 1.2322 - accuracy: 0.5482 - val_loss: 1.1317 - val_accuracy: 0.6325\n",
            "Epoch 3/5\n",
            "2700/2700 [==============================] - 7s 2ms/step - loss: 1.0234 - accuracy: 0.6822 - val_loss: 0.9231 - val_accuracy: 0.7291\n",
            "Epoch 4/5\n",
            "2700/2700 [==============================] - 7s 3ms/step - loss: 0.8381 - accuracy: 0.7561 - val_loss: 0.7660 - val_accuracy: 0.7765\n",
            "Epoch 5/5\n",
            "2700/2700 [==============================] - 7s 3ms/step - loss: 0.7073 - accuracy: 0.7875 - val_loss: 0.6631 - val_accuracy: 0.7985\n",
            "675/675 [==============================] - 1s 2ms/step - loss: 0.6581 - accuracy: 0.7971\n",
            "Epoch 1/5\n",
            "2700/2700 [==============================] - 7s 2ms/step - loss: 1.3696 - accuracy: 0.3326 - val_loss: 1.3405 - val_accuracy: 0.4504\n",
            "Epoch 2/5\n",
            "2700/2700 [==============================] - 7s 2ms/step - loss: 1.2819 - accuracy: 0.5633 - val_loss: 1.2049 - val_accuracy: 0.6583\n",
            "Epoch 3/5\n",
            "2700/2700 [==============================] - 7s 3ms/step - loss: 1.1026 - accuracy: 0.7035 - val_loss: 0.9982 - val_accuracy: 0.7502\n",
            "Epoch 4/5\n",
            "2700/2700 [==============================] - 7s 3ms/step - loss: 0.8991 - accuracy: 0.7627 - val_loss: 0.8133 - val_accuracy: 0.7831\n",
            "Epoch 5/5\n",
            "2700/2700 [==============================] - 6s 2ms/step - loss: 0.7425 - accuracy: 0.7905 - val_loss: 0.6893 - val_accuracy: 0.7977\n",
            "675/675 [==============================] - 1s 2ms/step - loss: 0.6897 - accuracy: 0.8000\n",
            "Epoch 1/5\n",
            "2700/2700 [==============================] - 7s 2ms/step - loss: 1.3690 - accuracy: 0.3107 - val_loss: 1.3370 - val_accuracy: 0.4068\n",
            "Epoch 2/5\n",
            "2700/2700 [==============================] - 7s 2ms/step - loss: 1.2839 - accuracy: 0.5024 - val_loss: 1.2172 - val_accuracy: 0.5954\n",
            "Epoch 3/5\n",
            "2700/2700 [==============================] - 9s 3ms/step - loss: 1.1266 - accuracy: 0.6680 - val_loss: 1.0299 - val_accuracy: 0.7263\n",
            "Epoch 4/5\n",
            "2700/2700 [==============================] - 7s 3ms/step - loss: 0.9278 - accuracy: 0.7588 - val_loss: 0.8367 - val_accuracy: 0.7811\n",
            "Epoch 5/5\n",
            "2700/2700 [==============================] - 7s 3ms/step - loss: 0.7564 - accuracy: 0.7944 - val_loss: 0.6972 - val_accuracy: 0.8034\n",
            "675/675 [==============================] - 1s 2ms/step - loss: 0.6997 - accuracy: 0.7957\n",
            "Epoch 1/5\n",
            "2700/2700 [==============================] - 7s 2ms/step - loss: 1.3700 - accuracy: 0.3095 - val_loss: 1.3445 - val_accuracy: 0.3893\n",
            "Epoch 2/5\n",
            "2700/2700 [==============================] - 7s 3ms/step - loss: 1.2934 - accuracy: 0.5009 - val_loss: 1.2276 - val_accuracy: 0.5982\n",
            "Epoch 3/5\n",
            "2700/2700 [==============================] - 7s 2ms/step - loss: 1.1299 - accuracy: 0.6824 - val_loss: 1.0277 - val_accuracy: 0.7407\n",
            "Epoch 4/5\n",
            "2700/2700 [==============================] - 7s 3ms/step - loss: 0.9232 - accuracy: 0.7679 - val_loss: 0.8312 - val_accuracy: 0.7830\n",
            "Epoch 5/5\n",
            "2700/2700 [==============================] - 7s 2ms/step - loss: 0.7554 - accuracy: 0.7945 - val_loss: 0.6973 - val_accuracy: 0.7997\n",
            "675/675 [==============================] - 1s 2ms/step - loss: 0.6929 - accuracy: 0.8041\n",
            "Epoch 1/5\n",
            "2700/2700 [==============================] - 7s 3ms/step - loss: 1.3602 - accuracy: 0.3538 - val_loss: 1.3183 - val_accuracy: 0.4577\n",
            "Epoch 2/5\n",
            "2700/2700 [==============================] - 7s 3ms/step - loss: 1.2422 - accuracy: 0.5460 - val_loss: 1.1520 - val_accuracy: 0.6204\n",
            "Epoch 3/5\n",
            "2700/2700 [==============================] - 7s 2ms/step - loss: 1.0450 - accuracy: 0.6816 - val_loss: 0.9468 - val_accuracy: 0.7278\n",
            "Epoch 4/5\n",
            "2700/2700 [==============================] - 6s 2ms/step - loss: 0.8566 - accuracy: 0.7594 - val_loss: 0.7852 - val_accuracy: 0.7769\n",
            "Epoch 5/5\n",
            "2700/2700 [==============================] - 7s 3ms/step - loss: 0.7209 - accuracy: 0.7903 - val_loss: 0.6769 - val_accuracy: 0.7979\n",
            "675/675 [==============================] - 1s 2ms/step - loss: 0.6774 - accuracy: 0.7951\n",
            "Epoch 1/5\n",
            "2700/2700 [==============================] - 7s 3ms/step - loss: 1.3660 - accuracy: 0.3290 - val_loss: 1.3297 - val_accuracy: 0.4307\n",
            "Epoch 2/5\n",
            "2700/2700 [==============================] - 7s 2ms/step - loss: 1.2646 - accuracy: 0.5396 - val_loss: 1.1793 - val_accuracy: 0.6368\n",
            "Epoch 3/5\n",
            "2700/2700 [==============================] - 7s 3ms/step - loss: 1.0715 - accuracy: 0.6994 - val_loss: 0.9631 - val_accuracy: 0.7446\n",
            "Epoch 4/5\n",
            "2700/2700 [==============================] - 7s 3ms/step - loss: 0.8651 - accuracy: 0.7675 - val_loss: 0.7805 - val_accuracy: 0.7816\n",
            "Epoch 5/5\n",
            "2700/2700 [==============================] - 7s 3ms/step - loss: 0.7136 - accuracy: 0.7939 - val_loss: 0.6618 - val_accuracy: 0.8020\n",
            "675/675 [==============================] - 1s 2ms/step - loss: 0.6546 - accuracy: 0.8061\n",
            "Epoch 1/5\n",
            "2700/2700 [==============================] - 7s 3ms/step - loss: 1.3648 - accuracy: 0.3073 - val_loss: 1.3334 - val_accuracy: 0.3972\n",
            "Epoch 2/5\n",
            "2700/2700 [==============================] - 7s 3ms/step - loss: 1.2688 - accuracy: 0.5120 - val_loss: 1.1903 - val_accuracy: 0.5984\n",
            "Epoch 3/5\n",
            "2700/2700 [==============================] - 7s 3ms/step - loss: 1.0798 - accuracy: 0.6598 - val_loss: 0.9753 - val_accuracy: 0.7019\n",
            "Epoch 4/5\n",
            "2700/2700 [==============================] - 7s 3ms/step - loss: 0.8745 - accuracy: 0.7399 - val_loss: 0.7935 - val_accuracy: 0.7608\n",
            "Epoch 5/5\n",
            "2700/2700 [==============================] - 7s 2ms/step - loss: 0.7231 - accuracy: 0.7809 - val_loss: 0.6758 - val_accuracy: 0.7884\n",
            "675/675 [==============================] - 1s 2ms/step - loss: 0.6766 - accuracy: 0.7872\n",
            "Epoch 1/5\n",
            "2700/2700 [==============================] - 7s 3ms/step - loss: 1.3544 - accuracy: 0.4115 - val_loss: 1.3158 - val_accuracy: 0.5271\n",
            "Epoch 2/5\n",
            "2700/2700 [==============================] - 7s 3ms/step - loss: 1.2420 - accuracy: 0.6218 - val_loss: 1.1517 - val_accuracy: 0.6828\n",
            "Epoch 3/5\n",
            "2700/2700 [==============================] - 7s 2ms/step - loss: 1.0370 - accuracy: 0.7317 - val_loss: 0.9271 - val_accuracy: 0.7558\n",
            "Epoch 4/5\n",
            "2700/2700 [==============================] - 7s 3ms/step - loss: 0.8286 - accuracy: 0.7746 - val_loss: 0.7513 - val_accuracy: 0.7837\n",
            "Epoch 5/5\n",
            "2700/2700 [==============================] - 7s 3ms/step - loss: 0.6858 - accuracy: 0.7974 - val_loss: 0.6449 - val_accuracy: 0.7997\n",
            "675/675 [==============================] - 1s 2ms/step - loss: 0.6492 - accuracy: 0.7975\n",
            "Epoch 1/5\n",
            "2700/2700 [==============================] - 8s 3ms/step - loss: 1.3552 - accuracy: 0.3539 - val_loss: 1.3114 - val_accuracy: 0.4502\n",
            "Epoch 2/5\n",
            "2700/2700 [==============================] - 7s 3ms/step - loss: 1.2322 - accuracy: 0.5254 - val_loss: 1.1419 - val_accuracy: 0.5893\n",
            "Epoch 3/5\n",
            "2700/2700 [==============================] - 7s 2ms/step - loss: 1.0361 - accuracy: 0.6571 - val_loss: 0.9393 - val_accuracy: 0.7153\n",
            "Epoch 4/5\n",
            "2700/2700 [==============================] - 7s 3ms/step - loss: 0.8493 - accuracy: 0.7508 - val_loss: 0.7749 - val_accuracy: 0.7752\n",
            "Epoch 5/5\n",
            "2700/2700 [==============================] - 7s 3ms/step - loss: 0.7115 - accuracy: 0.7892 - val_loss: 0.6638 - val_accuracy: 0.7968\n",
            "675/675 [==============================] - 1s 2ms/step - loss: 0.6571 - accuracy: 0.8036\n",
            "Epoch 1/5\n",
            "2700/2700 [==============================] - 8s 3ms/step - loss: 1.3670 - accuracy: 0.3276 - val_loss: 1.3344 - val_accuracy: 0.4372\n",
            "Epoch 2/5\n",
            "2700/2700 [==============================] - 7s 3ms/step - loss: 1.2863 - accuracy: 0.5226 - val_loss: 1.2160 - val_accuracy: 0.6197\n",
            "Epoch 3/5\n",
            "2700/2700 [==============================] - 7s 3ms/step - loss: 1.1277 - accuracy: 0.6742 - val_loss: 1.0238 - val_accuracy: 0.7236\n",
            "Epoch 4/5\n",
            "2700/2700 [==============================] - 7s 3ms/step - loss: 0.9241 - accuracy: 0.7517 - val_loss: 0.8265 - val_accuracy: 0.7735\n",
            "Epoch 5/5\n",
            "2700/2700 [==============================] - 7s 3ms/step - loss: 0.7502 - accuracy: 0.7876 - val_loss: 0.6864 - val_accuracy: 0.7962\n",
            "675/675 [==============================] - 1s 2ms/step - loss: 0.6895 - accuracy: 0.7987\n",
            "Epoch 1/5\n",
            "3375/3375 [==============================] - 9s 3ms/step - loss: 0.4643 - accuracy: 0.8323 - val_loss: 0.4137 - val_accuracy: 0.8535\n",
            "Epoch 2/5\n",
            "3375/3375 [==============================] - 9s 3ms/step - loss: 0.3891 - accuracy: 0.8573 - val_loss: 0.4017 - val_accuracy: 0.8541\n",
            "Epoch 3/5\n",
            "3375/3375 [==============================] - 9s 3ms/step - loss: 0.3611 - accuracy: 0.8675 - val_loss: 0.3940 - val_accuracy: 0.8582\n",
            "Epoch 4/5\n",
            "3375/3375 [==============================] - 9s 3ms/step - loss: 0.3379 - accuracy: 0.8773 - val_loss: 0.3974 - val_accuracy: 0.8541\n",
            "Epoch 5/5\n",
            "3375/3375 [==============================] - 9s 3ms/step - loss: 0.3174 - accuracy: 0.8835 - val_loss: 0.3973 - val_accuracy: 0.8564\n"
          ]
        },
        {
          "output_type": "execute_result",
          "data": {
            "text/plain": [
              "GridSearchCV(estimator=<keras.wrappers.scikit_learn.KerasRegressor object at 0x7f7c21ebe4d0>,\n",
              "             param_grid={'learning_rate': [0.001, 0.0001, 1e-05],\n",
              "                         'n_units': [8, 16, 64]})"
            ]
          },
          "metadata": {},
          "execution_count": 28
        }
      ]
    },
    {
      "cell_type": "markdown",
      "metadata": {
        "id": "aadmkiOoyM94"
      },
      "source": [
        "Printing the best hyper-parameters, and evealuate the best model on the test set."
      ]
    },
    {
      "cell_type": "code",
      "metadata": {
        "id": "b0nL5OZkylNX",
        "colab": {
          "base_uri": "https://localhost:8080/"
        },
        "outputId": "55bfec16-5c78-4bb5-ebe5-6bc5dad53a6e"
      },
      "source": [
        "print(grid_search.best_params_)\n",
        "\n",
        "model = grid_search.best_estimator_.model\n",
        "model.evaluate(X_test, y_test)"
      ],
      "execution_count": null,
      "outputs": [
        {
          "output_type": "stream",
          "name": "stdout",
          "text": [
            "{'learning_rate': 0.001, 'n_units': 8}\n",
            "238/238 [==============================] - 1s 2ms/step - loss: 0.4048 - accuracy: 0.8516\n"
          ]
        },
        {
          "output_type": "execute_result",
          "data": {
            "text/plain": [
              "[0.4048064649105072, 0.851578950881958]"
            ]
          },
          "metadata": {},
          "execution_count": 29
        }
      ]
    },
    {
      "cell_type": "code",
      "source": [],
      "metadata": {
        "id": "YEfubyR7ulCZ"
      },
      "execution_count": null,
      "outputs": []
    }
  ]
}